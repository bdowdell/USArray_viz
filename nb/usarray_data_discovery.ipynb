{
 "cells": [
  {
   "cell_type": "markdown",
   "metadata": {},
   "source": [
    "# USArray Seismometer Network Data Discovery #\n",
    "This notebook will demonstrate accessing and visualing data about the USArray project.\n",
    "\n",
    "The original data file was downloaded [here](http://ds.iris.edu/files/earthscope/usarray/_US-REF-StationList.txt) on November 17, 2019.  The data are the Reference Network.\n",
    "\n",
    "If you want to learn more about USArray and the EarthScope project, visit the [USArray](http://www.usarray.org/) webpage."
   ]
  },
  {
   "cell_type": "markdown",
   "metadata": {},
   "source": [
    "**Imports**"
   ]
  },
  {
   "cell_type": "code",
   "execution_count": 1,
   "metadata": {},
   "outputs": [],
   "source": [
    "import pandas as pd\n",
    "import numpy as np\n",
    "import matplotlib.pyplot as plt\n",
    "import seaborn as sns\n",
    "%matplotlib inline"
   ]
  },
  {
   "cell_type": "code",
   "execution_count": 2,
   "metadata": {},
   "outputs": [],
   "source": [
    "in_file = \"../data/2019Nov17_US-REF-StationList.txt\""
   ]
  },
  {
   "cell_type": "code",
   "execution_count": 3,
   "metadata": {},
   "outputs": [],
   "source": [
    "with open(in_file) as file:\n",
    "    try:\n",
    "        df = pd.read_csv(file, sep='\\t')\n",
    "    except:\n",
    "        print('Error reading file')"
   ]
  },
  {
   "cell_type": "code",
   "execution_count": 4,
   "metadata": {},
   "outputs": [
    {
     "data": {
      "text/html": [
       "<div>\n",
       "<style scoped>\n",
       "    .dataframe tbody tr th:only-of-type {\n",
       "        vertical-align: middle;\n",
       "    }\n",
       "\n",
       "    .dataframe tbody tr th {\n",
       "        vertical-align: top;\n",
       "    }\n",
       "\n",
       "    .dataframe thead th {\n",
       "        text-align: right;\n",
       "    }\n",
       "</style>\n",
       "<table border=\"1\" class=\"dataframe\">\n",
       "  <thead>\n",
       "    <tr style=\"text-align: right;\">\n",
       "      <th></th>\n",
       "      <th>VNET</th>\n",
       "      <th>NET</th>\n",
       "      <th>STA</th>\n",
       "      <th>SITE DESCRIPTION</th>\n",
       "      <th>LAT</th>\n",
       "      <th>LON</th>\n",
       "      <th>ELEV</th>\n",
       "      <th>START</th>\n",
       "      <th>END</th>\n",
       "      <th>STATUS</th>\n",
       "      <th>INSTALL</th>\n",
       "      <th>CERT</th>\n",
       "    </tr>\n",
       "  </thead>\n",
       "  <tbody>\n",
       "    <tr>\n",
       "      <th>0</th>\n",
       "      <td>_US-REF</td>\n",
       "      <td>AK</td>\n",
       "      <td>BMR</td>\n",
       "      <td>Bremner River, AK, USA</td>\n",
       "      <td>60.97</td>\n",
       "      <td>-144.61</td>\n",
       "      <td>842.0</td>\n",
       "      <td>2004/01/01</td>\n",
       "      <td>2599/12/31</td>\n",
       "      <td>Operating</td>\n",
       "      <td>NaN</td>\n",
       "      <td>NaN</td>\n",
       "    </tr>\n",
       "    <tr>\n",
       "      <th>1</th>\n",
       "      <td>_US-REF</td>\n",
       "      <td>AK</td>\n",
       "      <td>TNA</td>\n",
       "      <td>Tin City, AK, USA</td>\n",
       "      <td>65.56</td>\n",
       "      <td>-167.93</td>\n",
       "      <td>74.0</td>\n",
       "      <td>2004/01/01</td>\n",
       "      <td>2599/12/31</td>\n",
       "      <td>Operating</td>\n",
       "      <td>NaN</td>\n",
       "      <td>NaN</td>\n",
       "    </tr>\n",
       "    <tr>\n",
       "      <th>2</th>\n",
       "      <td>_US-REF</td>\n",
       "      <td>AT</td>\n",
       "      <td>PMR</td>\n",
       "      <td>Palmer, Alaska</td>\n",
       "      <td>61.59</td>\n",
       "      <td>-149.13</td>\n",
       "      <td>100.0</td>\n",
       "      <td>2004/01/01</td>\n",
       "      <td>2599/12/31</td>\n",
       "      <td>Operating</td>\n",
       "      <td>NaN</td>\n",
       "      <td>NaN</td>\n",
       "    </tr>\n",
       "    <tr>\n",
       "      <th>3</th>\n",
       "      <td>_US-REF</td>\n",
       "      <td>AT</td>\n",
       "      <td>SDPT</td>\n",
       "      <td>Sand Point, Alaska</td>\n",
       "      <td>55.35</td>\n",
       "      <td>-160.48</td>\n",
       "      <td>74.0</td>\n",
       "      <td>2004/01/01</td>\n",
       "      <td>2599/12/31</td>\n",
       "      <td>Operating</td>\n",
       "      <td>NaN</td>\n",
       "      <td>NaN</td>\n",
       "    </tr>\n",
       "    <tr>\n",
       "      <th>4</th>\n",
       "      <td>_US-REF</td>\n",
       "      <td>AT</td>\n",
       "      <td>SMY</td>\n",
       "      <td>Shemya, Alaska</td>\n",
       "      <td>52.73</td>\n",
       "      <td>174.10</td>\n",
       "      <td>58.0</td>\n",
       "      <td>2004/01/01</td>\n",
       "      <td>2599/12/31</td>\n",
       "      <td>Operating</td>\n",
       "      <td>NaN</td>\n",
       "      <td>NaN</td>\n",
       "    </tr>\n",
       "  </tbody>\n",
       "</table>\n",
       "</div>"
      ],
      "text/plain": [
       "      VNET NET   STA        SITE DESCRIPTION    LAT     LON   ELEV  \\\n",
       "0  _US-REF  AK   BMR  Bremner River, AK, USA  60.97 -144.61  842.0   \n",
       "1  _US-REF  AK   TNA       Tin City, AK, USA  65.56 -167.93   74.0   \n",
       "2  _US-REF  AT   PMR          Palmer, Alaska  61.59 -149.13  100.0   \n",
       "3  _US-REF  AT  SDPT      Sand Point, Alaska  55.35 -160.48   74.0   \n",
       "4  _US-REF  AT   SMY          Shemya, Alaska  52.73  174.10   58.0   \n",
       "\n",
       "        START         END     STATUS  INSTALL  CERT  \n",
       "0  2004/01/01  2599/12/31  Operating      NaN   NaN  \n",
       "1  2004/01/01  2599/12/31  Operating      NaN   NaN  \n",
       "2  2004/01/01  2599/12/31  Operating      NaN   NaN  \n",
       "3  2004/01/01  2599/12/31  Operating      NaN   NaN  \n",
       "4  2004/01/01  2599/12/31  Operating      NaN   NaN  "
      ]
     },
     "execution_count": 4,
     "metadata": {},
     "output_type": "execute_result"
    }
   ],
   "source": [
    "df.head()"
   ]
  },
  {
   "cell_type": "markdown",
   "metadata": {},
   "source": [
    "### **What do the various column names mean?**\n",
    "\n",
    "**VNET** is the [Virtual Network](ds.iris.edu/ds/nodes/dmc/earthscope/usarray/) label within the IRIS DMC archive\n",
    "\n",
    "<div class=\"auto-table-scroll-x\"><table class=\"table table-bordered table-striped\">\n",
    "    <tbody><tr>\n",
    "        <th>Virtual Network code</th>\n",
    "        <th>Description</th>\n",
    "    </tr>\n",
    "    <tr>\n",
    "        <td><a href=\"http://ds.iris.edu/ds/nodes/dmc/earthscope/usarray/#transportable_array\">_US-TA</a> </td>\n",
    "        <td><span class=\"caps\">USA</span>rray Transportable Array stations</td>\n",
    "    </tr>\n",
    "    <tr>\n",
    "        <td><a href=\"http://ds.iris.edu/ds/nodes/dmc/earthscope/usarray/#reference_array\">_US-<span class=\"caps\">REF</span></a> </td>\n",
    "        <td><span class=\"caps\">USA</span>rray Reference Network (including Backbone/Permanent Array) stations</td>\n",
    "    </tr>\n",
    "    <tr>\n",
    "        <td><a href=\"http://ds.iris.edu/ds/nodes/dmc/earthscope/usarray/#flexible_array\">_US-FA</a> </td>\n",
    "        <td><span class=\"caps\">USA</span>rray Flexible Array stations</td>\n",
    "    </tr>\n",
    "    <tr>\n",
    "        <td><a href=\"http://ds.iris.edu/ds/nodes/dmc/earthscope/usarray/#magnetotelluric\">_US-MT</a> </td>\n",
    "        <td><span class=\"caps\">USA</span>rray Magnetotelluric stations</td>\n",
    "    </tr>\n",
    "    <tr>\n",
    "        <td><a href=\"http://ds.iris.edu/ds/nodes/dmc/earthscope/usarray/#usarray_all\">_US-<span class=\"caps\">ALL</span></a> </td>\n",
    "        <td>All <span class=\"caps\">USA</span>rray stations</td>\n",
    "    </tr>\n",
    "</tbody></table></div>\n",
    "\n",
    "This dataset is only the US Reference Array, so there is only one VNET value.\n",
    "\n",
    "From the webpage:\n",
    "\n",
    "\"The Reference Network is composed of permanent stations at a roughly 300 km spacing across the United States and includes the 39 EarthScope-funded Permanent Array stations. The DMC receives 40 and 1 samples/second seismic data streams from most sites.\"\n",
    "\n",
    "\n",
    "**NET** is the [Network Station Summary](http://ds.iris.edu/ds/nodes/dmc/earthscope/usarray/_US-REF/#NETSUM)\n",
    "\n",
    "<table id=\"table1\" class=\"stationlist\">\n",
    "  <caption>Network station summary, Total: 121 , Operating: 92 , Ended: 29 </caption>\n",
    "  <thead>\n",
    "    <tr>\n",
    "      <th>NET</th>\n",
    "      <th>DESCRIPTION</th>\n",
    "      <th># STATIONS</th>\n",
    "    </tr>\n",
    "  </thead>\n",
    "  <tbody>\n",
    "    <tr>\n",
    "      <td style=\"background-color:#99ffcc;\">AK</td>\n",
    "      <td style=\"background-color:#99ffcc;\">Alaska Regional Network</td>\n",
    "      <td style=\"background-color:#99ffcc;\">2</td>\n",
    "    </tr>\n",
    "    <tr>\n",
    "      <td style=\"background-color:#99ccff;\">AT</td>\n",
    "      <td style=\"background-color:#99ccff;\">National Tsunami Warning Center Alaska Seismic Network</td>\n",
    "      <td style=\"background-color:#99ccff;\">3</td>\n",
    "    </tr>\n",
    "    <tr>\n",
    "      <td style=\"background-color:#ffffcc;\">BK</td>\n",
    "      <td style=\"background-color:#ffffcc;\">Berkeley Digital Seismograph Network</td>\n",
    "      <td style=\"background-color:#ffffcc;\">5</td>\n",
    "    </tr>\n",
    "    <tr>\n",
    "      <td style=\"background-color:#cc99cc;\">CI</td>\n",
    "      <td style=\"background-color:#cc99cc;\">Southern California Seismic Network</td>\n",
    "      <td style=\"background-color:#cc99cc;\">3</td>\n",
    "    </tr>\n",
    "    <tr>\n",
    "      <td style=\"background-color:#ffcc99;\">ET</td>\n",
    "      <td style=\"background-color:#ffcc99;\">CERI Southern Appalachian Seismic Network</td>\n",
    "      <td style=\"background-color:#ffcc99;\">1</td>\n",
    "    </tr>\n",
    "    <tr>\n",
    "      <td style=\"background-color:#cc9966;\">II</td>\n",
    "      <td style=\"background-color:#cc9966;\">Global Seismograph Network - IRIS/IDA</td>\n",
    "      <td style=\"background-color:#cc9966;\">3</td>\n",
    "    </tr>\n",
    "    <tr>\n",
    "      <td style=\"background-color:#cc9999;\">IM</td>\n",
    "      <td style=\"background-color:#cc9999;\">International Miscellaneous Stations</td>\n",
    "      <td style=\"background-color:#cc9999;\">5</td>\n",
    "    </tr>\n",
    "    <tr>\n",
    "      <td style=\"background-color:#9933ff;\">IU</td>\n",
    "      <td style=\"background-color:#9933ff;\">Global Seismograph Network - IRIS/USGS</td>\n",
    "      <td style=\"background-color:#9933ff;\">14</td>\n",
    "    </tr>\n",
    "    <tr>\n",
    "      <td style=\"background-color:#99ffcc;\">LB</td>\n",
    "      <td style=\"background-color:#99ffcc;\">Leo Brady Network</td>\n",
    "      <td style=\"background-color:#99ffcc;\">1</td>\n",
    "    </tr>\n",
    "    <tr>\n",
    "      <td style=\"background-color:#99ccff;\">LD</td>\n",
    "      <td style=\"background-color:#99ccff;\">Lamont-Doherty Cooperative Seismographic Network</td>\n",
    "      <td style=\"background-color:#99ccff;\">1</td>\n",
    "    </tr>\n",
    "    <tr>\n",
    "      <td style=\"background-color:#ffffcc;\">NN</td>\n",
    "      <td style=\"background-color:#ffffcc;\">Nevada Seismic Network</td>\n",
    "      <td style=\"background-color:#ffffcc;\">1</td>\n",
    "    </tr>\n",
    "    <tr>\n",
    "      <td style=\"background-color:#cc99cc;\">TA</td>\n",
    "      <td style=\"background-color:#cc99cc;\">USArray Transportable Array</td>\n",
    "      <td style=\"background-color:#cc99cc;\">21</td>\n",
    "    </tr>\n",
    "    <tr>\n",
    "      <td style=\"background-color:#ffcc99;\">UO</td>\n",
    "      <td style=\"background-color:#ffcc99;\">University of Oregon Regional Network &amp; Pacific Northwest Seismic Network</td>\n",
    "      <td style=\"background-color:#ffcc99;\">2</td>\n",
    "    </tr>\n",
    "    <tr>\n",
    "      <td style=\"background-color:#cc9966;\">US</td>\n",
    "      <td style=\"background-color:#cc9966;\">United States National Seismic Network</td>\n",
    "      <td style=\"background-color:#cc9966;\">57</td>\n",
    "    </tr>\n",
    "    <tr>\n",
    "      <td style=\"background-color:#cc9999;\">UU</td>\n",
    "      <td style=\"background-color:#cc9999;\">University of Utah Regional Seismic Network</td>\n",
    "      <td style=\"background-color:#cc9999;\">2</td>\n",
    "    </tr>\n",
    "  </tbody>\n",
    "</table>\n",
    "\n",
    "**STA** is the Station Name, which is a shorthand form of the Site Description\n",
    "\n",
    "**SITE_DESCRIPTION** is a descriptor string for the site station location\n",
    "\n",
    "**LAT/LON** are world positioning latitude & longitude coordinates\n",
    "\n",
    "**ELEV** is the site locations elevation, in meters\n",
    "\n",
    "**START** is the deployment date\n",
    "\n",
    "**END** is when the station was/will be decomissioned\n",
    "\n",
    "**STATUS** is whether or not the station is operational"
   ]
  },
  {
   "cell_type": "code",
   "execution_count": 5,
   "metadata": {},
   "outputs": [
    {
     "data": {
      "text/html": [
       "<div>\n",
       "<style scoped>\n",
       "    .dataframe tbody tr th:only-of-type {\n",
       "        vertical-align: middle;\n",
       "    }\n",
       "\n",
       "    .dataframe tbody tr th {\n",
       "        vertical-align: top;\n",
       "    }\n",
       "\n",
       "    .dataframe thead th {\n",
       "        text-align: right;\n",
       "    }\n",
       "</style>\n",
       "<table border=\"1\" class=\"dataframe\">\n",
       "  <thead>\n",
       "    <tr style=\"text-align: right;\">\n",
       "      <th></th>\n",
       "      <th>count</th>\n",
       "      <th>mean</th>\n",
       "      <th>std</th>\n",
       "      <th>min</th>\n",
       "      <th>25%</th>\n",
       "      <th>50%</th>\n",
       "      <th>75%</th>\n",
       "      <th>max</th>\n",
       "    </tr>\n",
       "  </thead>\n",
       "  <tbody>\n",
       "    <tr>\n",
       "      <th>LAT</th>\n",
       "      <td>121.0</td>\n",
       "      <td>40.931983</td>\n",
       "      <td>7.772801</td>\n",
       "      <td>27.55</td>\n",
       "      <td>35.14</td>\n",
       "      <td>40.20</td>\n",
       "      <td>44.59</td>\n",
       "      <td>65.56</td>\n",
       "    </tr>\n",
       "    <tr>\n",
       "      <th>LON</th>\n",
       "      <td>121.0</td>\n",
       "      <td>-97.300826</td>\n",
       "      <td>47.724259</td>\n",
       "      <td>-176.68</td>\n",
       "      <td>-115.66</td>\n",
       "      <td>-102.63</td>\n",
       "      <td>-87.83</td>\n",
       "      <td>174.10</td>\n",
       "    </tr>\n",
       "    <tr>\n",
       "      <th>ELEV</th>\n",
       "      <td>121.0</td>\n",
       "      <td>741.052893</td>\n",
       "      <td>713.100046</td>\n",
       "      <td>-413.00</td>\n",
       "      <td>200.00</td>\n",
       "      <td>478.00</td>\n",
       "      <td>1280.00</td>\n",
       "      <td>2743.00</td>\n",
       "    </tr>\n",
       "    <tr>\n",
       "      <th>INSTALL</th>\n",
       "      <td>0.0</td>\n",
       "      <td>NaN</td>\n",
       "      <td>NaN</td>\n",
       "      <td>NaN</td>\n",
       "      <td>NaN</td>\n",
       "      <td>NaN</td>\n",
       "      <td>NaN</td>\n",
       "      <td>NaN</td>\n",
       "    </tr>\n",
       "    <tr>\n",
       "      <th>CERT</th>\n",
       "      <td>0.0</td>\n",
       "      <td>NaN</td>\n",
       "      <td>NaN</td>\n",
       "      <td>NaN</td>\n",
       "      <td>NaN</td>\n",
       "      <td>NaN</td>\n",
       "      <td>NaN</td>\n",
       "      <td>NaN</td>\n",
       "    </tr>\n",
       "  </tbody>\n",
       "</table>\n",
       "</div>"
      ],
      "text/plain": [
       "         count        mean         std     min     25%     50%      75%  \\\n",
       "LAT      121.0   40.931983    7.772801   27.55   35.14   40.20    44.59   \n",
       "LON      121.0  -97.300826   47.724259 -176.68 -115.66 -102.63   -87.83   \n",
       "ELEV     121.0  741.052893  713.100046 -413.00  200.00  478.00  1280.00   \n",
       "INSTALL    0.0         NaN         NaN     NaN     NaN     NaN      NaN   \n",
       "CERT       0.0         NaN         NaN     NaN     NaN     NaN      NaN   \n",
       "\n",
       "             max  \n",
       "LAT        65.56  \n",
       "LON       174.10  \n",
       "ELEV     2743.00  \n",
       "INSTALL      NaN  \n",
       "CERT         NaN  "
      ]
     },
     "execution_count": 5,
     "metadata": {},
     "output_type": "execute_result"
    }
   ],
   "source": [
    "df.describe().transpose()"
   ]
  },
  {
   "cell_type": "code",
   "execution_count": 6,
   "metadata": {},
   "outputs": [
    {
     "name": "stdout",
     "output_type": "stream",
     "text": [
      "<class 'pandas.core.frame.DataFrame'>\n",
      "RangeIndex: 121 entries, 0 to 120\n",
      "Data columns (total 12 columns):\n",
      "VNET                121 non-null object\n",
      "NET                 121 non-null object\n",
      "STA                 121 non-null object\n",
      "SITE DESCRIPTION    121 non-null object\n",
      "LAT                 121 non-null float64\n",
      "LON                 121 non-null float64\n",
      "ELEV                121 non-null float64\n",
      "START               121 non-null object\n",
      "END                 121 non-null object\n",
      "STATUS              121 non-null object\n",
      "INSTALL             0 non-null float64\n",
      "CERT                0 non-null float64\n",
      "dtypes: float64(5), object(7)\n",
      "memory usage: 11.5+ KB\n"
     ]
    }
   ],
   "source": [
    "df.info()"
   ]
  },
  {
   "cell_type": "code",
   "execution_count": 7,
   "metadata": {},
   "outputs": [
    {
     "data": {
      "text/plain": [
       "array(['Operating', 'Ended'], dtype=object)"
      ]
     },
     "execution_count": 7,
     "metadata": {},
     "output_type": "execute_result"
    }
   ],
   "source": [
    "df['STATUS'].unique()"
   ]
  },
  {
   "cell_type": "code",
   "execution_count": 8,
   "metadata": {},
   "outputs": [
    {
     "data": {
      "text/plain": [
       "Operating    92\n",
       "Ended        29\n",
       "Name: STATUS, dtype: int64"
      ]
     },
     "execution_count": 8,
     "metadata": {},
     "output_type": "execute_result"
    }
   ],
   "source": [
    "df['STATUS'].value_counts()"
   ]
  },
  {
   "cell_type": "markdown",
   "metadata": {},
   "source": [
    "**It appears that both INSTALL and CERT are empty and so they can be dropped**"
   ]
  },
  {
   "cell_type": "code",
   "execution_count": 9,
   "metadata": {},
   "outputs": [],
   "source": [
    "df.drop(labels=['INSTALL','CERT'], axis=1, inplace=True)"
   ]
  },
  {
   "cell_type": "code",
   "execution_count": 10,
   "metadata": {},
   "outputs": [
    {
     "data": {
      "text/html": [
       "<div>\n",
       "<style scoped>\n",
       "    .dataframe tbody tr th:only-of-type {\n",
       "        vertical-align: middle;\n",
       "    }\n",
       "\n",
       "    .dataframe tbody tr th {\n",
       "        vertical-align: top;\n",
       "    }\n",
       "\n",
       "    .dataframe thead th {\n",
       "        text-align: right;\n",
       "    }\n",
       "</style>\n",
       "<table border=\"1\" class=\"dataframe\">\n",
       "  <thead>\n",
       "    <tr style=\"text-align: right;\">\n",
       "      <th></th>\n",
       "      <th>VNET</th>\n",
       "      <th>NET</th>\n",
       "      <th>STA</th>\n",
       "      <th>SITE DESCRIPTION</th>\n",
       "      <th>LAT</th>\n",
       "      <th>LON</th>\n",
       "      <th>ELEV</th>\n",
       "      <th>START</th>\n",
       "      <th>END</th>\n",
       "      <th>STATUS</th>\n",
       "    </tr>\n",
       "  </thead>\n",
       "  <tbody>\n",
       "    <tr>\n",
       "      <th>0</th>\n",
       "      <td>_US-REF</td>\n",
       "      <td>AK</td>\n",
       "      <td>BMR</td>\n",
       "      <td>Bremner River, AK, USA</td>\n",
       "      <td>60.97</td>\n",
       "      <td>-144.61</td>\n",
       "      <td>842.0</td>\n",
       "      <td>2004/01/01</td>\n",
       "      <td>2599/12/31</td>\n",
       "      <td>Operating</td>\n",
       "    </tr>\n",
       "    <tr>\n",
       "      <th>1</th>\n",
       "      <td>_US-REF</td>\n",
       "      <td>AK</td>\n",
       "      <td>TNA</td>\n",
       "      <td>Tin City, AK, USA</td>\n",
       "      <td>65.56</td>\n",
       "      <td>-167.93</td>\n",
       "      <td>74.0</td>\n",
       "      <td>2004/01/01</td>\n",
       "      <td>2599/12/31</td>\n",
       "      <td>Operating</td>\n",
       "    </tr>\n",
       "    <tr>\n",
       "      <th>2</th>\n",
       "      <td>_US-REF</td>\n",
       "      <td>AT</td>\n",
       "      <td>PMR</td>\n",
       "      <td>Palmer, Alaska</td>\n",
       "      <td>61.59</td>\n",
       "      <td>-149.13</td>\n",
       "      <td>100.0</td>\n",
       "      <td>2004/01/01</td>\n",
       "      <td>2599/12/31</td>\n",
       "      <td>Operating</td>\n",
       "    </tr>\n",
       "    <tr>\n",
       "      <th>3</th>\n",
       "      <td>_US-REF</td>\n",
       "      <td>AT</td>\n",
       "      <td>SDPT</td>\n",
       "      <td>Sand Point, Alaska</td>\n",
       "      <td>55.35</td>\n",
       "      <td>-160.48</td>\n",
       "      <td>74.0</td>\n",
       "      <td>2004/01/01</td>\n",
       "      <td>2599/12/31</td>\n",
       "      <td>Operating</td>\n",
       "    </tr>\n",
       "    <tr>\n",
       "      <th>4</th>\n",
       "      <td>_US-REF</td>\n",
       "      <td>AT</td>\n",
       "      <td>SMY</td>\n",
       "      <td>Shemya, Alaska</td>\n",
       "      <td>52.73</td>\n",
       "      <td>174.10</td>\n",
       "      <td>58.0</td>\n",
       "      <td>2004/01/01</td>\n",
       "      <td>2599/12/31</td>\n",
       "      <td>Operating</td>\n",
       "    </tr>\n",
       "  </tbody>\n",
       "</table>\n",
       "</div>"
      ],
      "text/plain": [
       "      VNET NET   STA        SITE DESCRIPTION    LAT     LON   ELEV  \\\n",
       "0  _US-REF  AK   BMR  Bremner River, AK, USA  60.97 -144.61  842.0   \n",
       "1  _US-REF  AK   TNA       Tin City, AK, USA  65.56 -167.93   74.0   \n",
       "2  _US-REF  AT   PMR          Palmer, Alaska  61.59 -149.13  100.0   \n",
       "3  _US-REF  AT  SDPT      Sand Point, Alaska  55.35 -160.48   74.0   \n",
       "4  _US-REF  AT   SMY          Shemya, Alaska  52.73  174.10   58.0   \n",
       "\n",
       "        START         END     STATUS  \n",
       "0  2004/01/01  2599/12/31  Operating  \n",
       "1  2004/01/01  2599/12/31  Operating  \n",
       "2  2004/01/01  2599/12/31  Operating  \n",
       "3  2004/01/01  2599/12/31  Operating  \n",
       "4  2004/01/01  2599/12/31  Operating  "
      ]
     },
     "execution_count": 10,
     "metadata": {},
     "output_type": "execute_result"
    }
   ],
   "source": [
    "df.head()"
   ]
  },
  {
   "cell_type": "markdown",
   "metadata": {},
   "source": [
    "**Plot the number of Operating vs. Ended stations**"
   ]
  },
  {
   "cell_type": "code",
   "execution_count": 11,
   "metadata": {},
   "outputs": [
    {
     "data": {
      "text/plain": [
       "<matplotlib.axes._subplots.AxesSubplot at 0x7f228a92acc0>"
      ]
     },
     "execution_count": 11,
     "metadata": {},
     "output_type": "execute_result"
    },
    {
     "data": {
      "image/png": "[encoded data removed]",
      "text/plain": [
       "<Figure size 432x288 with 1 Axes>"
      ]
     },
     "metadata": {
      "needs_background": "light"
     },
     "output_type": "display_data"
    }
   ],
   "source": [
    "sns.countplot(x='STATUS', data=df)"
   ]
  },
  {
   "cell_type": "code",
   "execution_count": 12,
   "metadata": {},
   "outputs": [
    {
     "data": {
      "text/plain": [
       "array(['2004/01/01', '2006/02/03', '2006/04/04', '2006/10/05',\n",
       "       '2006/07/13', '2006/06/20', '2018/01/26', '2008/02/12',\n",
       "       '2007/05/07', '2009/02/12', '2008/10/18', '2008/10/05',\n",
       "       '2007/10/03', '2008/07/15', '2008/10/13', '2008/12/03',\n",
       "       '2008/10/04', '2008/04/23', '2007/11/12', '2007/02/09',\n",
       "       '2012/08/02', '2008/10/09', '2008/10/07', '2010/08/24',\n",
       "       '2009/03/16', '2008/10/16', '2007/05/01', '2009/02/11',\n",
       "       '2010/09/27', '2006/08/12', '2004/11/23', '2006/06/15',\n",
       "       '2007/01/01', '2006/06/25', '2006/09/25', '2006/05/17',\n",
       "       '2006/08/18', '2005/10/01', '2004/03/19', '2006/08/10',\n",
       "       '2006/08/24', '2006/06/16', '2004/07/13', '2005/10/06',\n",
       "       '2006/04/18', '2004/05/12', '2006/07/05', '2007/06/28',\n",
       "       '2006/07/02', '2006/06/01', '2005/02/23', '2007/04/13',\n",
       "       '2006/08/27', '2006/01/09'], dtype=object)"
      ]
     },
     "execution_count": 12,
     "metadata": {},
     "output_type": "execute_result"
    }
   ],
   "source": [
    "df['START'].unique()"
   ]
  },
  {
   "cell_type": "code",
   "execution_count": 13,
   "metadata": {},
   "outputs": [
    {
     "data": {
      "text/plain": [
       "array(['2599/12/31', '2006/07/12', '2006/06/20', '2010/04/01',\n",
       "       '2018/01/26', '2010/05/02', '2019/03/08', '2018/09/07',\n",
       "       '2018/08/15', '2010/06/13', '2018/09/04', '2017/03/16',\n",
       "       '2015/04/28', '2017/04/25', '2010/09/26', '2018/09/25',\n",
       "       '2019/09/14'], dtype=object)"
      ]
     },
     "execution_count": 13,
     "metadata": {},
     "output_type": "execute_result"
    }
   ],
   "source": [
    "df['END'].unique()"
   ]
  },
  {
   "cell_type": "code",
   "execution_count": 14,
   "metadata": {},
   "outputs": [
    {
     "data": {
      "text/plain": [
       "array(['AK', 'AT', 'BK', 'CI', 'ET', 'II', 'IM', 'IU', 'LB', 'LD', 'NN',\n",
       "       'TA', 'UO', 'US', 'UU'], dtype=object)"
      ]
     },
     "execution_count": 14,
     "metadata": {},
     "output_type": "execute_result"
    }
   ],
   "source": [
    "df['NET'].unique()"
   ]
  },
  {
   "cell_type": "code",
   "execution_count": 15,
   "metadata": {},
   "outputs": [
    {
     "data": {
      "text/plain": [
       "<matplotlib.axes._subplots.AxesSubplot at 0x7f228a6155f8>"
      ]
     },
     "execution_count": 15,
     "metadata": {},
     "output_type": "execute_result"
    },
    {
     "data": {
      "image/png": "[encoded data removed]",
      "text/plain": [
       "<Figure size 432x288 with 1 Axes>"
      ]
     },
     "metadata": {
      "needs_background": "light"
     },
     "output_type": "display_data"
    }
   ],
   "source": [
    "df['ELEV'].plot()"
   ]
  },
  {
   "cell_type": "code",
   "execution_count": 16,
   "metadata": {},
   "outputs": [
    {
     "data": {
      "image/png": "[encoded data removed]",
      "text/plain": [
       "<Figure size 1440x576 with 1 Axes>"
      ]
     },
     "metadata": {
      "needs_background": "light"
     },
     "output_type": "display_data"
    }
   ],
   "source": [
    "fig = plt.figure(figsize=(20,8))\n",
    "ax = fig.add_subplot()\n",
    "df_sorted_by_LON = df.sort_values(by='LON')\n",
    "sns.lineplot(x='LON', y='ELEV', data=df_sorted_by_LON)\n",
    "sns.scatterplot(x='LON', y='ELEV', data=df_sorted_by_LON)\n",
    "ax.set_xlabel('Longitude')\n",
    "ax.set_ylabel('Elevation (m)')\n",
    "ax.set_title('Elevation vs. Longitude (Lateral Elevation Profile)')\n",
    "ax.set_xlim(-180,180)\n",
    "plt.show()"
   ]
  },
  {
   "cell_type": "markdown",
   "metadata": {},
   "source": [
    "Can you see where the Rockies are??\n",
    "\n",
    "Also, there are two stations with a positive longitude.  Let's investigate this"
   ]
  },
  {
   "cell_type": "code",
   "execution_count": 17,
   "metadata": {},
   "outputs": [
    {
     "data": {
      "text/html": [
       "<div>\n",
       "<style scoped>\n",
       "    .dataframe tbody tr th:only-of-type {\n",
       "        vertical-align: middle;\n",
       "    }\n",
       "\n",
       "    .dataframe tbody tr th {\n",
       "        vertical-align: top;\n",
       "    }\n",
       "\n",
       "    .dataframe thead th {\n",
       "        text-align: right;\n",
       "    }\n",
       "</style>\n",
       "<table border=\"1\" class=\"dataframe\">\n",
       "  <thead>\n",
       "    <tr style=\"text-align: right;\">\n",
       "      <th></th>\n",
       "      <th>VNET</th>\n",
       "      <th>NET</th>\n",
       "      <th>STA</th>\n",
       "      <th>SITE DESCRIPTION</th>\n",
       "      <th>LAT</th>\n",
       "      <th>LON</th>\n",
       "      <th>ELEV</th>\n",
       "      <th>START</th>\n",
       "      <th>END</th>\n",
       "      <th>STATUS</th>\n",
       "    </tr>\n",
       "  </thead>\n",
       "  <tbody>\n",
       "    <tr>\n",
       "      <th>4</th>\n",
       "      <td>_US-REF</td>\n",
       "      <td>AT</td>\n",
       "      <td>SMY</td>\n",
       "      <td>Shemya, Alaska</td>\n",
       "      <td>52.73</td>\n",
       "      <td>174.10</td>\n",
       "      <td>58.0</td>\n",
       "      <td>2004/01/01</td>\n",
       "      <td>2599/12/31</td>\n",
       "      <td>Operating</td>\n",
       "    </tr>\n",
       "    <tr>\n",
       "      <th>17</th>\n",
       "      <td>_US-REF</td>\n",
       "      <td>IM</td>\n",
       "      <td>ATTU</td>\n",
       "      <td>Attu Island, AK, USA</td>\n",
       "      <td>52.88</td>\n",
       "      <td>173.16</td>\n",
       "      <td>250.0</td>\n",
       "      <td>2004/01/01</td>\n",
       "      <td>2006/06/20</td>\n",
       "      <td>Ended</td>\n",
       "    </tr>\n",
       "    <tr>\n",
       "      <th>18</th>\n",
       "      <td>_US-REF</td>\n",
       "      <td>IM</td>\n",
       "      <td>ATTUB</td>\n",
       "      <td>Attu Island, AK, USA</td>\n",
       "      <td>52.88</td>\n",
       "      <td>173.16</td>\n",
       "      <td>250.0</td>\n",
       "      <td>2006/06/20</td>\n",
       "      <td>2010/04/01</td>\n",
       "      <td>Ended</td>\n",
       "    </tr>\n",
       "  </tbody>\n",
       "</table>\n",
       "</div>"
      ],
      "text/plain": [
       "       VNET NET    STA      SITE DESCRIPTION    LAT     LON   ELEV  \\\n",
       "4   _US-REF  AT    SMY        Shemya, Alaska  52.73  174.10   58.0   \n",
       "17  _US-REF  IM   ATTU  Attu Island, AK, USA  52.88  173.16  250.0   \n",
       "18  _US-REF  IM  ATTUB  Attu Island, AK, USA  52.88  173.16  250.0   \n",
       "\n",
       "         START         END     STATUS  \n",
       "4   2004/01/01  2599/12/31  Operating  \n",
       "17  2004/01/01  2006/06/20      Ended  \n",
       "18  2006/06/20  2010/04/01      Ended  "
      ]
     },
     "execution_count": 17,
     "metadata": {},
     "output_type": "execute_result"
    }
   ],
   "source": [
    "df[df['LON'] > 0]"
   ]
  },
  {
   "cell_type": "markdown",
   "metadata": {},
   "source": [
    "These values make sense.  These stations are located on some of the furthest Aleutian islands which are actually on the other side of the 180 deg Meridian"
   ]
  },
  {
   "cell_type": "markdown",
   "metadata": {},
   "source": [
    "<img src=\"../data/Shemya_Attu_AK.png\">"
   ]
  },
  {
   "cell_type": "code",
   "execution_count": 18,
   "metadata": {},
   "outputs": [
    {
     "data": {
      "text/html": [
       "<div>\n",
       "<style scoped>\n",
       "    .dataframe tbody tr th:only-of-type {\n",
       "        vertical-align: middle;\n",
       "    }\n",
       "\n",
       "    .dataframe tbody tr th {\n",
       "        vertical-align: top;\n",
       "    }\n",
       "\n",
       "    .dataframe thead th {\n",
       "        text-align: right;\n",
       "    }\n",
       "</style>\n",
       "<table border=\"1\" class=\"dataframe\">\n",
       "  <thead>\n",
       "    <tr style=\"text-align: right;\">\n",
       "      <th></th>\n",
       "      <th>LAT</th>\n",
       "      <th>LON</th>\n",
       "      <th>ELEV</th>\n",
       "    </tr>\n",
       "    <tr>\n",
       "      <th>NET</th>\n",
       "      <th></th>\n",
       "      <th></th>\n",
       "      <th></th>\n",
       "    </tr>\n",
       "  </thead>\n",
       "  <tbody>\n",
       "    <tr>\n",
       "      <th>AK</th>\n",
       "      <td>63.265000</td>\n",
       "      <td>-156.270000</td>\n",
       "      <td>458.000000</td>\n",
       "    </tr>\n",
       "    <tr>\n",
       "      <th>AT</th>\n",
       "      <td>56.556667</td>\n",
       "      <td>-45.170000</td>\n",
       "      <td>77.333333</td>\n",
       "    </tr>\n",
       "    <tr>\n",
       "      <th>BK</th>\n",
       "      <td>39.224000</td>\n",
       "      <td>-122.044000</td>\n",
       "      <td>365.940000</td>\n",
       "    </tr>\n",
       "    <tr>\n",
       "      <th>CI</th>\n",
       "      <td>34.870000</td>\n",
       "      <td>-117.440000</td>\n",
       "      <td>846.666667</td>\n",
       "    </tr>\n",
       "    <tr>\n",
       "      <th>ET</th>\n",
       "      <td>35.220000</td>\n",
       "      <td>-85.930000</td>\n",
       "      <td>581.000000</td>\n",
       "    </tr>\n",
       "    <tr>\n",
       "      <th>II</th>\n",
       "      <td>41.666667</td>\n",
       "      <td>-128.500000</td>\n",
       "      <td>904.000000</td>\n",
       "    </tr>\n",
       "    <tr>\n",
       "      <th>IM</th>\n",
       "      <td>43.258000</td>\n",
       "      <td>2.986000</td>\n",
       "      <td>1043.880000</td>\n",
       "    </tr>\n",
       "    <tr>\n",
       "      <th>IU</th>\n",
       "      <td>39.737143</td>\n",
       "      <td>-104.074286</td>\n",
       "      <td>429.857143</td>\n",
       "    </tr>\n",
       "    <tr>\n",
       "      <th>LB</th>\n",
       "      <td>40.430000</td>\n",
       "      <td>-117.220000</td>\n",
       "      <td>1594.000000</td>\n",
       "    </tr>\n",
       "    <tr>\n",
       "      <th>LD</th>\n",
       "      <td>41.010000</td>\n",
       "      <td>-73.910000</td>\n",
       "      <td>66.000000</td>\n",
       "    </tr>\n",
       "    <tr>\n",
       "      <th>NN</th>\n",
       "      <td>39.310000</td>\n",
       "      <td>-119.760000</td>\n",
       "      <td>1658.000000</td>\n",
       "    </tr>\n",
       "    <tr>\n",
       "      <th>TA</th>\n",
       "      <td>38.424762</td>\n",
       "      <td>-99.425238</td>\n",
       "      <td>868.142857</td>\n",
       "    </tr>\n",
       "    <tr>\n",
       "      <th>UO</th>\n",
       "      <td>43.800000</td>\n",
       "      <td>-120.905000</td>\n",
       "      <td>1889.500000</td>\n",
       "    </tr>\n",
       "    <tr>\n",
       "      <th>US</th>\n",
       "      <td>40.896140</td>\n",
       "      <td>-97.978246</td>\n",
       "      <td>708.075439</td>\n",
       "    </tr>\n",
       "    <tr>\n",
       "      <th>UU</th>\n",
       "      <td>38.330000</td>\n",
       "      <td>-111.940000</td>\n",
       "      <td>1965.500000</td>\n",
       "    </tr>\n",
       "  </tbody>\n",
       "</table>\n",
       "</div>"
      ],
      "text/plain": [
       "           LAT         LON         ELEV\n",
       "NET                                    \n",
       "AK   63.265000 -156.270000   458.000000\n",
       "AT   56.556667  -45.170000    77.333333\n",
       "BK   39.224000 -122.044000   365.940000\n",
       "CI   34.870000 -117.440000   846.666667\n",
       "ET   35.220000  -85.930000   581.000000\n",
       "II   41.666667 -128.500000   904.000000\n",
       "IM   43.258000    2.986000  1043.880000\n",
       "IU   39.737143 -104.074286   429.857143\n",
       "LB   40.430000 -117.220000  1594.000000\n",
       "LD   41.010000  -73.910000    66.000000\n",
       "NN   39.310000 -119.760000  1658.000000\n",
       "TA   38.424762  -99.425238   868.142857\n",
       "UO   43.800000 -120.905000  1889.500000\n",
       "US   40.896140  -97.978246   708.075439\n",
       "UU   38.330000 -111.940000  1965.500000"
      ]
     },
     "execution_count": 18,
     "metadata": {},
     "output_type": "execute_result"
    }
   ],
   "source": [
    "df.groupby('NET').mean()"
   ]
  },
  {
   "cell_type": "markdown",
   "metadata": {},
   "source": [
    "**There is a station very nearby to me in Hockley, TX**\n",
    "\n",
    "The station is 'HKT'.  Let's grab it and take a look"
   ]
  },
  {
   "cell_type": "code",
   "execution_count": 19,
   "metadata": {},
   "outputs": [
    {
     "data": {
      "text/html": [
       "<div>\n",
       "<style scoped>\n",
       "    .dataframe tbody tr th:only-of-type {\n",
       "        vertical-align: middle;\n",
       "    }\n",
       "\n",
       "    .dataframe tbody tr th {\n",
       "        vertical-align: top;\n",
       "    }\n",
       "\n",
       "    .dataframe thead th {\n",
       "        text-align: right;\n",
       "    }\n",
       "</style>\n",
       "<table border=\"1\" class=\"dataframe\">\n",
       "  <thead>\n",
       "    <tr style=\"text-align: right;\">\n",
       "      <th></th>\n",
       "      <th>VNET</th>\n",
       "      <th>NET</th>\n",
       "      <th>STA</th>\n",
       "      <th>SITE DESCRIPTION</th>\n",
       "      <th>LAT</th>\n",
       "      <th>LON</th>\n",
       "      <th>ELEV</th>\n",
       "      <th>START</th>\n",
       "      <th>END</th>\n",
       "      <th>STATUS</th>\n",
       "    </tr>\n",
       "  </thead>\n",
       "  <tbody>\n",
       "    <tr>\n",
       "      <th>28</th>\n",
       "      <td>_US-REF</td>\n",
       "      <td>IU</td>\n",
       "      <td>HKT</td>\n",
       "      <td>Hockley, Texas</td>\n",
       "      <td>29.96</td>\n",
       "      <td>-95.84</td>\n",
       "      <td>-413.0</td>\n",
       "      <td>2004/01/01</td>\n",
       "      <td>2018/01/26</td>\n",
       "      <td>Ended</td>\n",
       "    </tr>\n",
       "    <tr>\n",
       "      <th>29</th>\n",
       "      <td>_US-REF</td>\n",
       "      <td>IU</td>\n",
       "      <td>HKT</td>\n",
       "      <td>Hockley, Texas</td>\n",
       "      <td>29.96</td>\n",
       "      <td>-95.84</td>\n",
       "      <td>69.0</td>\n",
       "      <td>2018/01/26</td>\n",
       "      <td>2599/12/31</td>\n",
       "      <td>Operating</td>\n",
       "    </tr>\n",
       "  </tbody>\n",
       "</table>\n",
       "</div>"
      ],
      "text/plain": [
       "       VNET NET  STA SITE DESCRIPTION    LAT    LON   ELEV       START  \\\n",
       "28  _US-REF  IU  HKT   Hockley, Texas  29.96 -95.84 -413.0  2004/01/01   \n",
       "29  _US-REF  IU  HKT   Hockley, Texas  29.96 -95.84   69.0  2018/01/26   \n",
       "\n",
       "           END     STATUS  \n",
       "28  2018/01/26      Ended  \n",
       "29  2599/12/31  Operating  "
      ]
     },
     "execution_count": 19,
     "metadata": {},
     "output_type": "execute_result"
    }
   ],
   "source": [
    "df[df['STA'] == 'HKT']"
   ]
  },
  {
   "cell_type": "markdown",
   "metadata": {},
   "source": [
    "Very interesting.  The elevations are in meters.  I think that the negative elevation station must have been deployed underground in the Hockley Salt Dome."
   ]
  },
  {
   "cell_type": "markdown",
   "metadata": {},
   "source": [
    "**Adding columns for State name**"
   ]
  },
  {
   "cell_type": "markdown",
   "metadata": {},
   "source": [
    "I came across a useful package called [us](https://pypi.org/project/us/)\n",
    "\n",
    "One of the nice features of this library is that it makes it very quick to create look-up dictionaries in the form of:\n",
    "\n",
    "* 'AK':'Alaska'\n",
    "* 'Alaska':'AK'"
   ]
  },
  {
   "cell_type": "code",
   "execution_count": 20,
   "metadata": {},
   "outputs": [],
   "source": [
    "import us"
   ]
  },
  {
   "cell_type": "code",
   "execution_count": 21,
   "metadata": {},
   "outputs": [],
   "source": [
    "state_abbrev_dict = us.states.mapping('abbr', 'name')\n",
    "state_name_dict = us.states.mapping('name', 'abbr')"
   ]
  },
  {
   "cell_type": "code",
   "execution_count": 22,
   "metadata": {},
   "outputs": [
    {
     "data": {
      "text/plain": [
       "dict_keys(['AL', 'AK', 'AS', 'AZ', 'AR', 'CA', 'CO', 'CT', 'DK', 'DE', 'DC', 'FL', 'GA', 'GU', 'HI', 'ID', 'IL', 'IN', 'IA', 'KS', 'KY', 'LA', 'ME', 'MD', 'MA', 'MI', 'MN', 'MS', 'MO', 'MT', 'NE', 'NV', 'NH', 'NJ', 'NM', 'NY', 'NC', 'ND', 'MP', 'OH', 'OK', 'OR', 'OL', 'PA', 'PI', 'PR', 'RI', 'SC', 'SD', 'TN', 'TX', 'UT', 'VT', 'VI', 'VA', 'WA', 'WV', 'WI', 'WY'])"
      ]
     },
     "execution_count": 22,
     "metadata": {},
     "output_type": "execute_result"
    }
   ],
   "source": [
    "state_abbrev_dict.keys()"
   ]
  },
  {
   "cell_type": "code",
   "execution_count": 23,
   "metadata": {},
   "outputs": [
    {
     "data": {
      "text/plain": [
       "dict_values(['Alabama', 'Alaska', 'American Samoa', 'Arizona', 'Arkansas', 'California', 'Colorado', 'Connecticut', 'Dakota', 'Delaware', 'District of Columbia', 'Florida', 'Georgia', 'Guam', 'Hawaii', 'Idaho', 'Illinois', 'Indiana', 'Iowa', 'Kansas', 'Kentucky', 'Louisiana', 'Maine', 'Maryland', 'Massachusetts', 'Michigan', 'Minnesota', 'Mississippi', 'Missouri', 'Montana', 'Nebraska', 'Nevada', 'New Hampshire', 'New Jersey', 'New Mexico', 'New York', 'North Carolina', 'North Dakota', 'Northern Mariana Islands', 'Ohio', 'Oklahoma', 'Oregon', 'Orleans', 'Pennsylvania', 'Philippine Islands', 'Puerto Rico', 'Rhode Island', 'South Carolina', 'South Dakota', 'Tennessee', 'Texas', 'Utah', 'Vermont', 'Virgin Islands', 'Virginia', 'Washington', 'West Virginia', 'Wisconsin', 'Wyoming'])"
      ]
     },
     "execution_count": 23,
     "metadata": {},
     "output_type": "execute_result"
    }
   ],
   "source": [
    "state_abbrev_dict.values()"
   ]
  },
  {
   "cell_type": "code",
   "execution_count": 24,
   "metadata": {},
   "outputs": [
    {
     "data": {
      "text/plain": [
       "dict_keys(['Alabama', 'Alaska', 'American Samoa', 'Arizona', 'Arkansas', 'California', 'Colorado', 'Connecticut', 'Dakota', 'Delaware', 'District of Columbia', 'Florida', 'Georgia', 'Guam', 'Hawaii', 'Idaho', 'Illinois', 'Indiana', 'Iowa', 'Kansas', 'Kentucky', 'Louisiana', 'Maine', 'Maryland', 'Massachusetts', 'Michigan', 'Minnesota', 'Mississippi', 'Missouri', 'Montana', 'Nebraska', 'Nevada', 'New Hampshire', 'New Jersey', 'New Mexico', 'New York', 'North Carolina', 'North Dakota', 'Northern Mariana Islands', 'Ohio', 'Oklahoma', 'Oregon', 'Orleans', 'Pennsylvania', 'Philippine Islands', 'Puerto Rico', 'Rhode Island', 'South Carolina', 'South Dakota', 'Tennessee', 'Texas', 'Utah', 'Vermont', 'Virgin Islands', 'Virginia', 'Washington', 'West Virginia', 'Wisconsin', 'Wyoming'])"
      ]
     },
     "execution_count": 24,
     "metadata": {},
     "output_type": "execute_result"
    }
   ],
   "source": [
    "state_name_dict.keys()"
   ]
  },
  {
   "cell_type": "code",
   "execution_count": 25,
   "metadata": {},
   "outputs": [
    {
     "data": {
      "text/plain": [
       "dict_values(['AL', 'AK', 'AS', 'AZ', 'AR', 'CA', 'CO', 'CT', 'DK', 'DE', 'DC', 'FL', 'GA', 'GU', 'HI', 'ID', 'IL', 'IN', 'IA', 'KS', 'KY', 'LA', 'ME', 'MD', 'MA', 'MI', 'MN', 'MS', 'MO', 'MT', 'NE', 'NV', 'NH', 'NJ', 'NM', 'NY', 'NC', 'ND', 'MP', 'OH', 'OK', 'OR', 'OL', 'PA', 'PI', 'PR', 'RI', 'SC', 'SD', 'TN', 'TX', 'UT', 'VT', 'VI', 'VA', 'WA', 'WV', 'WI', 'WY'])"
      ]
     },
     "execution_count": 25,
     "metadata": {},
     "output_type": "execute_result"
    }
   ],
   "source": [
    "state_name_dict.values()"
   ]
  },
  {
   "cell_type": "markdown",
   "metadata": {},
   "source": [
    "In the dataframe, this information is embedded in the 'SITE DESCRIPTION' column"
   ]
  },
  {
   "cell_type": "code",
   "execution_count": 26,
   "metadata": {},
   "outputs": [
    {
     "data": {
      "text/plain": [
       "array(['Bremner River, AK, USA', 'Tin City, AK, USA', 'Palmer, Alaska',\n",
       "       'Sand Point, Alaska', 'Shemya, Alaska',\n",
       "       'Columbia College, Columbia, CA, USA', 'Hull Mountain, OR, USA',\n",
       "       'Marconi Conference Center, Marshall, CA, USA',\n",
       "       'San Andreas Geophysical Obs., Hollister, CA, USA',\n",
       "       'Whiskeytown Dam, Whiskeytown, CA, USA',\n",
       "       'Granite Mountains Research Center', 'Isabella',\n",
       "       'Art Center College of Design (GSN-affiliate)', 'Sewanee,TN',\n",
       "       'Kodiak Island, Alaska, USA', 'Pinon Flat, California, USA',\n",
       "       'Attu Island, AK, USA', 'NVAR Array Site 31, Mina, NV, USA',\n",
       "       'PDAR Array, Pinedale, WY, USA', 'TXAR Array, Lajitas, TX, USA',\n",
       "       'Adak, Aleutian Islands, Alaska', 'Albuquerque, New Mexico, USA',\n",
       "       'Cathedral Cave, Missouri, USA', 'College Outpost, Alaska, USA',\n",
       "       'Corvallis, Oregon, USA',\n",
       "       'Disney Wilderness Preserve, Florida, USA', 'Hockley, Texas',\n",
       "       'Adam Dziewonski Observatory (Oak Ridge), Massachusetts, USA',\n",
       "       'Black Hills, South Dakota, USA', 'Standing Stone, Pennsylvania',\n",
       "       'Tucson, Arizona', 'Wyandotte Cave, Indiana, USA',\n",
       "       'Waverly, Tennessee, USA', 'Battle Mountain, Nevada, USA',\n",
       "       'Palisades, New York', 'Washoe City, Nevada w84gm',\n",
       "       'Cookes Peak, Deming, NM, USA',\n",
       "       'Organ Pipe National Monument, Ajo, AZ, USA',\n",
       "       'Abilene, Hawley, TX, USA', 'Belgrade, NE, USA', 'Miller, SD, USA',\n",
       "       'Grant Village (NPS), Yellowstone Nt. Park, WY, USA',\n",
       "       'Casper, WY, USA', 'Kings Mountain, Blacksburg, SC, USA',\n",
       "       'Kaye Shedlock&#x27;s, Cheyenne Wells, CO, USA',\n",
       "       'Maddock, ND, USA', 'Muleshoe, TX, USA',\n",
       "       'White River City, CO, USA', 'Troy Canyon, Currant, NV, USA',\n",
       "       'Mineral, VA, USA', 'Lafayette, IN, USA',\n",
       "       'Marine on St. Croix, MN, USA', 'Tifton, GA, USA',\n",
       "       'Leonard, OK, USA', 'Petrified Forest, AZ, USA',\n",
       "       'Lake Whitney, Meridian, TX, USA',\n",
       "       'Pine Mt., OR, USA (U0 BB CREST SMO)', 'Pine Mountain, OR, USA',\n",
       "       'Ann Arbor, Michigan, USA', 'Alum Creek State Park, Ohio, USA',\n",
       "       'Agassiz National Wildlife Refuge, Minnesota, USA',\n",
       "       'Amarillo, Texas, USA', 'Binghamton, New York, USA',\n",
       "       'Blacksburg, Virginia, USA',\n",
       "       'Blue Mountains Array (Baker), Oregon, USA',\n",
       "       'Bozeman, Montana, USA', 'Brewton, Alabama, USA',\n",
       "       'Boulder Array Site 6 (Pinedale Array Site 6), Wyoming, USA',\n",
       "       'Cedar Bluff, Kansas, USA',\n",
       "       'Corbin (Fredericksburg Observatory), Virginia, USA',\n",
       "       'Cliffs of the Neuse, North Carolina, USA',\n",
       "       'Conover, Wisconsin, USA', 'Dagmar, Montana, USA',\n",
       "       'Dugway, Tooele County, Utah, USA',\n",
       "       'EROS Data Center, Sioux Falls, South Dakota, USA',\n",
       "       'Eagle, Central Alaska, Alaska, USA', 'Eagleton, Montana, USA',\n",
       "       'Erie, Pennsylvania, USA', 'Ely, Minnesota, USA',\n",
       "       'Grayling, Michigan, USA', 'Godfrey, Georgia, USA',\n",
       "       'Hanford, Washington, USA', 'Hopedale, Illinois, USA',\n",
       "       'Hailey, Idaho, USA', 'Idaho Springs, Colorado, USA',\n",
       "       'Junction, Texas, USA',\n",
       "       'Near Bowden and Sunny Slope Rds, Wisconsin, USA',\n",
       "       'Kansas State University--Konza Prairie, Kansas, USA',\n",
       "       'Kingsville, Texas, USA', 'LASA Array, Montana, USA',\n",
       "       'Lisbon, New Hampshire, USA', 'Lake Ozonia, New York, USA',\n",
       "       'Lakeview Retreat, Alabama, USA',\n",
       "       'Mont Chateau, West Virginia, USA', 'Mount Ida, Arkansas, USA',\n",
       "       'Cornudas Mountains, Texas, USA', 'Missoula, Montana, USA',\n",
       "       'Mesa Verde, Colorado, USA', 'Nacogdoches, Texas, USA',\n",
       "       'Newport, Washington, USA', 'New Hope, South Carolina, USA',\n",
       "       'Neilton Lookout, Washington, USA', 'Ogallala, Nebraska, USA',\n",
       "       'Oxford, Mississippi, USA', 'Peaks-Kenny State Park, Maine, USA',\n",
       "       'Red Lodge, Montana, USA', 'State Center, Iowa, USA',\n",
       "       'Great Sand Dunes National Park, Colorado, USA',\n",
       "       'Topopah Spring, Nevada, USA', 'Tazewell, Tennessee, USA',\n",
       "       'Vicksburg, Mississippi', 'Wichita Mountains, Oklahoma, USA',\n",
       "       'Wrangell Island, Southeastern Alaska, Alaska, USA',\n",
       "       'Wupatki, Arizona, USA', 'Wild Horse Valley, Oregon, USA',\n",
       "       'Cedar City, UT, USA', 'San Rafael Swell, UT, USA'], dtype=object)"
      ]
     },
     "execution_count": 26,
     "metadata": {},
     "output_type": "execute_result"
    }
   ],
   "source": [
    "df['SITE DESCRIPTION'].unique()"
   ]
  },
  {
   "cell_type": "markdown",
   "metadata": {},
   "source": [
    "Grab the first five 'SITE DESCRIPTION' entries"
   ]
  },
  {
   "cell_type": "code",
   "execution_count": 27,
   "metadata": {},
   "outputs": [
    {
     "data": {
      "text/plain": [
       "0                 Bremner River, AK, USA\n",
       "1                      Tin City, AK, USA\n",
       "2                         Palmer, Alaska\n",
       "3                     Sand Point, Alaska\n",
       "4                         Shemya, Alaska\n",
       "5    Columbia College, Columbia, CA, USA\n",
       "Name: SITE DESCRIPTION, dtype: object"
      ]
     },
     "execution_count": 27,
     "metadata": {},
     "output_type": "execute_result"
    }
   ],
   "source": [
    "df['SITE DESCRIPTION'][0:6]"
   ]
  },
  {
   "cell_type": "markdown",
   "metadata": {},
   "source": [
    "So we see there is a mixture of both abbreviated and full names.  That is why two dictionaries are needed"
   ]
  },
  {
   "cell_type": "code",
   "execution_count": 28,
   "metadata": {},
   "outputs": [
    {
     "data": {
      "text/plain": [
       "['Bremner', 'River,', 'AK,', 'USA']"
      ]
     },
     "execution_count": 28,
     "metadata": {},
     "output_type": "execute_result"
    }
   ],
   "source": [
    "list(df['SITE DESCRIPTION'][0].split())"
   ]
  },
  {
   "cell_type": "code",
   "execution_count": 29,
   "metadata": {},
   "outputs": [
    {
     "name": "stdout",
     "output_type": "stream",
     "text": [
      "Alaska\n",
      "Alaska\n",
      "Alaska\n"
     ]
    }
   ],
   "source": [
    "for site in df['SITE DESCRIPTION'][0:6]:\n",
    "    site_list = list(site.split())\n",
    "    for item in site_list:\n",
    "        if item in state_abbrev_dict.keys() or item in state_name_dict.keys():\n",
    "            print(item)"
   ]
  },
  {
   "cell_type": "markdown",
   "metadata": {},
   "source": [
    "Ok, it works, sort of.  Notice that there are trailing commas which need to be dealt with.\n",
    "\n",
    "Time for re"
   ]
  },
  {
   "cell_type": "code",
   "execution_count": 30,
   "metadata": {},
   "outputs": [],
   "source": [
    "import re"
   ]
  },
  {
   "cell_type": "code",
   "execution_count": 31,
   "metadata": {},
   "outputs": [
    {
     "data": {
      "text/plain": [
       "['Bremner', 'River', '', 'AK', '', 'USA']"
      ]
     },
     "execution_count": 31,
     "metadata": {},
     "output_type": "execute_result"
    }
   ],
   "source": [
    "re.split('[, ]', df['SITE DESCRIPTION'][0])"
   ]
  },
  {
   "cell_type": "code",
   "execution_count": 32,
   "metadata": {},
   "outputs": [
    {
     "name": "stdout",
     "output_type": "stream",
     "text": [
      "Bremner River, AK, USA\n",
      "['Bremner', 'River', '', 'AK', '', 'USA']\n",
      "Tin City, AK, USA\n",
      "['Tin', 'City', '', 'AK', '', 'USA']\n",
      "Palmer, Alaska\n",
      "['Palmer', '', 'Alaska']\n",
      "Sand Point, Alaska\n",
      "['Sand', 'Point', '', 'Alaska']\n",
      "Shemya, Alaska\n",
      "['Shemya', '', 'Alaska']\n",
      "Columbia College, Columbia, CA, USA\n",
      "['Columbia', 'College', '', 'Columbia', '', 'CA', '', 'USA']\n"
     ]
    }
   ],
   "source": [
    "for site in df['SITE DESCRIPTION'][0:6]:\n",
    "    print(site)\n",
    "    print(re.split('[, ]', site))"
   ]
  },
  {
   "cell_type": "code",
   "execution_count": 33,
   "metadata": {},
   "outputs": [
    {
     "name": "stdout",
     "output_type": "stream",
     "text": [
      "AK\n",
      "AK\n",
      "AK\n",
      "AK\n",
      "AK\n",
      "CA\n"
     ]
    }
   ],
   "source": [
    "for site in df['SITE DESCRIPTION'][0:6]:\n",
    "    #print('site: {}'.format(site))\n",
    "    site_list = re.split('[, ]', site)\n",
    "    for item in site_list:\n",
    "        #print(item)\n",
    "        if item in state_abbrev_dict.keys():\n",
    "            print(item)\n",
    "        elif item in state_name_dict.keys():\n",
    "            print(state_name_dict[item])"
   ]
  },
  {
   "cell_type": "code",
   "execution_count": 34,
   "metadata": {},
   "outputs": [
    {
     "data": {
      "text/plain": [
       "'Alaska'"
      ]
     },
     "execution_count": 34,
     "metadata": {},
     "output_type": "execute_result"
    }
   ],
   "source": [
    "state_abbrev_dict.get('AK')"
   ]
  },
  {
   "cell_type": "markdown",
   "metadata": {},
   "source": [
    "There should be a quicker way to do this.  Let's write a function that does this same operation and then use .apply"
   ]
  },
  {
   "cell_type": "code",
   "execution_count": 35,
   "metadata": {},
   "outputs": [],
   "source": [
    "def get_State(site):\n",
    "    \"\"\"Assumes site a string from a single row of pandas series\n",
    "    uses us library to create lookup tables of US State Name/Abbreviation\n",
    "    and then parses the string into a searchable list using re\n",
    "    Returns the State Abbreviation as a string\n",
    "    \"\"\"\n",
    "    import us\n",
    "    import re\n",
    "    state_abbrev_dict = us.states.mapping('abbr', 'name')\n",
    "    state_name_dict = us.states.mapping('name', 'abbr')\n",
    "    \n",
    "    site_list = re.split('[, ]', site)\n",
    "    for item in site_list:\n",
    "        if item in state_abbrev_dict.keys():\n",
    "            return item\n",
    "        elif item in state_name_dict.keys():\n",
    "            return state_name_dict[item]\n",
    "    \n",
    "    "
   ]
  },
  {
   "cell_type": "code",
   "execution_count": 36,
   "metadata": {},
   "outputs": [],
   "source": [
    "df['STATE'] = df['SITE DESCRIPTION'].apply(get_State)"
   ]
  },
  {
   "cell_type": "code",
   "execution_count": 37,
   "metadata": {},
   "outputs": [
    {
     "data": {
      "text/html": [
       "<div>\n",
       "<style scoped>\n",
       "    .dataframe tbody tr th:only-of-type {\n",
       "        vertical-align: middle;\n",
       "    }\n",
       "\n",
       "    .dataframe tbody tr th {\n",
       "        vertical-align: top;\n",
       "    }\n",
       "\n",
       "    .dataframe thead th {\n",
       "        text-align: right;\n",
       "    }\n",
       "</style>\n",
       "<table border=\"1\" class=\"dataframe\">\n",
       "  <thead>\n",
       "    <tr style=\"text-align: right;\">\n",
       "      <th></th>\n",
       "      <th>VNET</th>\n",
       "      <th>NET</th>\n",
       "      <th>STA</th>\n",
       "      <th>SITE DESCRIPTION</th>\n",
       "      <th>LAT</th>\n",
       "      <th>LON</th>\n",
       "      <th>ELEV</th>\n",
       "      <th>START</th>\n",
       "      <th>END</th>\n",
       "      <th>STATUS</th>\n",
       "      <th>STATE</th>\n",
       "    </tr>\n",
       "  </thead>\n",
       "  <tbody>\n",
       "    <tr>\n",
       "      <th>0</th>\n",
       "      <td>_US-REF</td>\n",
       "      <td>AK</td>\n",
       "      <td>BMR</td>\n",
       "      <td>Bremner River, AK, USA</td>\n",
       "      <td>60.97</td>\n",
       "      <td>-144.61</td>\n",
       "      <td>842.0</td>\n",
       "      <td>2004/01/01</td>\n",
       "      <td>2599/12/31</td>\n",
       "      <td>Operating</td>\n",
       "      <td>AK</td>\n",
       "    </tr>\n",
       "    <tr>\n",
       "      <th>1</th>\n",
       "      <td>_US-REF</td>\n",
       "      <td>AK</td>\n",
       "      <td>TNA</td>\n",
       "      <td>Tin City, AK, USA</td>\n",
       "      <td>65.56</td>\n",
       "      <td>-167.93</td>\n",
       "      <td>74.0</td>\n",
       "      <td>2004/01/01</td>\n",
       "      <td>2599/12/31</td>\n",
       "      <td>Operating</td>\n",
       "      <td>AK</td>\n",
       "    </tr>\n",
       "    <tr>\n",
       "      <th>2</th>\n",
       "      <td>_US-REF</td>\n",
       "      <td>AT</td>\n",
       "      <td>PMR</td>\n",
       "      <td>Palmer, Alaska</td>\n",
       "      <td>61.59</td>\n",
       "      <td>-149.13</td>\n",
       "      <td>100.0</td>\n",
       "      <td>2004/01/01</td>\n",
       "      <td>2599/12/31</td>\n",
       "      <td>Operating</td>\n",
       "      <td>AK</td>\n",
       "    </tr>\n",
       "    <tr>\n",
       "      <th>3</th>\n",
       "      <td>_US-REF</td>\n",
       "      <td>AT</td>\n",
       "      <td>SDPT</td>\n",
       "      <td>Sand Point, Alaska</td>\n",
       "      <td>55.35</td>\n",
       "      <td>-160.48</td>\n",
       "      <td>74.0</td>\n",
       "      <td>2004/01/01</td>\n",
       "      <td>2599/12/31</td>\n",
       "      <td>Operating</td>\n",
       "      <td>AK</td>\n",
       "    </tr>\n",
       "    <tr>\n",
       "      <th>4</th>\n",
       "      <td>_US-REF</td>\n",
       "      <td>AT</td>\n",
       "      <td>SMY</td>\n",
       "      <td>Shemya, Alaska</td>\n",
       "      <td>52.73</td>\n",
       "      <td>174.10</td>\n",
       "      <td>58.0</td>\n",
       "      <td>2004/01/01</td>\n",
       "      <td>2599/12/31</td>\n",
       "      <td>Operating</td>\n",
       "      <td>AK</td>\n",
       "    </tr>\n",
       "    <tr>\n",
       "      <th>5</th>\n",
       "      <td>_US-REF</td>\n",
       "      <td>BK</td>\n",
       "      <td>CMB</td>\n",
       "      <td>Columbia College, Columbia, CA, USA</td>\n",
       "      <td>38.03</td>\n",
       "      <td>-120.39</td>\n",
       "      <td>697.0</td>\n",
       "      <td>2004/01/01</td>\n",
       "      <td>2599/12/31</td>\n",
       "      <td>Operating</td>\n",
       "      <td>CA</td>\n",
       "    </tr>\n",
       "    <tr>\n",
       "      <th>6</th>\n",
       "      <td>_US-REF</td>\n",
       "      <td>BK</td>\n",
       "      <td>HUMO</td>\n",
       "      <td>Hull Mountain, OR, USA</td>\n",
       "      <td>42.61</td>\n",
       "      <td>-122.96</td>\n",
       "      <td>554.9</td>\n",
       "      <td>2004/01/01</td>\n",
       "      <td>2599/12/31</td>\n",
       "      <td>Operating</td>\n",
       "      <td>OR</td>\n",
       "    </tr>\n",
       "    <tr>\n",
       "      <th>7</th>\n",
       "      <td>_US-REF</td>\n",
       "      <td>BK</td>\n",
       "      <td>MCCM</td>\n",
       "      <td>Marconi Conference Center, Marshall, CA, USA</td>\n",
       "      <td>38.14</td>\n",
       "      <td>-122.88</td>\n",
       "      <td>-7.7</td>\n",
       "      <td>2006/02/03</td>\n",
       "      <td>2599/12/31</td>\n",
       "      <td>Operating</td>\n",
       "      <td>CA</td>\n",
       "    </tr>\n",
       "    <tr>\n",
       "      <th>8</th>\n",
       "      <td>_US-REF</td>\n",
       "      <td>BK</td>\n",
       "      <td>SAO</td>\n",
       "      <td>San Andreas Geophysical Obs., Hollister, CA, USA</td>\n",
       "      <td>36.76</td>\n",
       "      <td>-121.45</td>\n",
       "      <td>317.2</td>\n",
       "      <td>2004/01/01</td>\n",
       "      <td>2599/12/31</td>\n",
       "      <td>Operating</td>\n",
       "      <td>CA</td>\n",
       "    </tr>\n",
       "    <tr>\n",
       "      <th>9</th>\n",
       "      <td>_US-REF</td>\n",
       "      <td>BK</td>\n",
       "      <td>WDC</td>\n",
       "      <td>Whiskeytown Dam, Whiskeytown, CA, USA</td>\n",
       "      <td>40.58</td>\n",
       "      <td>-122.54</td>\n",
       "      <td>268.3</td>\n",
       "      <td>2004/01/01</td>\n",
       "      <td>2599/12/31</td>\n",
       "      <td>Operating</td>\n",
       "      <td>CA</td>\n",
       "    </tr>\n",
       "    <tr>\n",
       "      <th>10</th>\n",
       "      <td>_US-REF</td>\n",
       "      <td>CI</td>\n",
       "      <td>GMR</td>\n",
       "      <td>Granite Mountains Research Center</td>\n",
       "      <td>34.78</td>\n",
       "      <td>-115.66</td>\n",
       "      <td>1326.0</td>\n",
       "      <td>2006/04/04</td>\n",
       "      <td>2599/12/31</td>\n",
       "      <td>Operating</td>\n",
       "      <td>None</td>\n",
       "    </tr>\n",
       "    <tr>\n",
       "      <th>11</th>\n",
       "      <td>_US-REF</td>\n",
       "      <td>CI</td>\n",
       "      <td>ISA</td>\n",
       "      <td>Isabella</td>\n",
       "      <td>35.66</td>\n",
       "      <td>-118.47</td>\n",
       "      <td>873.0</td>\n",
       "      <td>2004/01/01</td>\n",
       "      <td>2599/12/31</td>\n",
       "      <td>Operating</td>\n",
       "      <td>None</td>\n",
       "    </tr>\n",
       "    <tr>\n",
       "      <th>12</th>\n",
       "      <td>_US-REF</td>\n",
       "      <td>CI</td>\n",
       "      <td>PASC</td>\n",
       "      <td>Art Center College of Design (GSN-affiliate)</td>\n",
       "      <td>34.17</td>\n",
       "      <td>-118.19</td>\n",
       "      <td>341.0</td>\n",
       "      <td>2006/10/05</td>\n",
       "      <td>2599/12/31</td>\n",
       "      <td>Operating</td>\n",
       "      <td>None</td>\n",
       "    </tr>\n",
       "    <tr>\n",
       "      <th>13</th>\n",
       "      <td>_US-REF</td>\n",
       "      <td>ET</td>\n",
       "      <td>SWET</td>\n",
       "      <td>Sewanee,TN</td>\n",
       "      <td>35.22</td>\n",
       "      <td>-85.93</td>\n",
       "      <td>581.0</td>\n",
       "      <td>2004/01/01</td>\n",
       "      <td>2599/12/31</td>\n",
       "      <td>Operating</td>\n",
       "      <td>TN</td>\n",
       "    </tr>\n",
       "    <tr>\n",
       "      <th>14</th>\n",
       "      <td>_US-REF</td>\n",
       "      <td>II</td>\n",
       "      <td>KDAK</td>\n",
       "      <td>Kodiak Island, Alaska, USA</td>\n",
       "      <td>57.78</td>\n",
       "      <td>-152.58</td>\n",
       "      <td>152.0</td>\n",
       "      <td>2004/01/01</td>\n",
       "      <td>2599/12/31</td>\n",
       "      <td>Operating</td>\n",
       "      <td>AK</td>\n",
       "    </tr>\n",
       "    <tr>\n",
       "      <th>15</th>\n",
       "      <td>_US-REF</td>\n",
       "      <td>II</td>\n",
       "      <td>PFO</td>\n",
       "      <td>Pinon Flat, California, USA</td>\n",
       "      <td>33.61</td>\n",
       "      <td>-116.46</td>\n",
       "      <td>1280.0</td>\n",
       "      <td>2004/01/01</td>\n",
       "      <td>2006/07/12</td>\n",
       "      <td>Ended</td>\n",
       "      <td>CA</td>\n",
       "    </tr>\n",
       "    <tr>\n",
       "      <th>16</th>\n",
       "      <td>_US-REF</td>\n",
       "      <td>II</td>\n",
       "      <td>PFO</td>\n",
       "      <td>Pinon Flat, California, USA</td>\n",
       "      <td>33.61</td>\n",
       "      <td>-116.46</td>\n",
       "      <td>1280.0</td>\n",
       "      <td>2006/07/13</td>\n",
       "      <td>2599/12/31</td>\n",
       "      <td>Operating</td>\n",
       "      <td>CA</td>\n",
       "    </tr>\n",
       "    <tr>\n",
       "      <th>17</th>\n",
       "      <td>_US-REF</td>\n",
       "      <td>IM</td>\n",
       "      <td>ATTU</td>\n",
       "      <td>Attu Island, AK, USA</td>\n",
       "      <td>52.88</td>\n",
       "      <td>173.16</td>\n",
       "      <td>250.0</td>\n",
       "      <td>2004/01/01</td>\n",
       "      <td>2006/06/20</td>\n",
       "      <td>Ended</td>\n",
       "      <td>AK</td>\n",
       "    </tr>\n",
       "    <tr>\n",
       "      <th>18</th>\n",
       "      <td>_US-REF</td>\n",
       "      <td>IM</td>\n",
       "      <td>ATTUB</td>\n",
       "      <td>Attu Island, AK, USA</td>\n",
       "      <td>52.88</td>\n",
       "      <td>173.16</td>\n",
       "      <td>250.0</td>\n",
       "      <td>2006/06/20</td>\n",
       "      <td>2010/04/01</td>\n",
       "      <td>Ended</td>\n",
       "      <td>AK</td>\n",
       "    </tr>\n",
       "    <tr>\n",
       "      <th>19</th>\n",
       "      <td>_US-REF</td>\n",
       "      <td>IM</td>\n",
       "      <td>NV31</td>\n",
       "      <td>NVAR Array Site 31, Mina, NV, USA</td>\n",
       "      <td>38.43</td>\n",
       "      <td>-118.16</td>\n",
       "      <td>1509.0</td>\n",
       "      <td>2004/01/01</td>\n",
       "      <td>2599/12/31</td>\n",
       "      <td>Operating</td>\n",
       "      <td>NV</td>\n",
       "    </tr>\n",
       "  </tbody>\n",
       "</table>\n",
       "</div>"
      ],
      "text/plain": [
       "       VNET NET    STA                                  SITE DESCRIPTION  \\\n",
       "0   _US-REF  AK    BMR                            Bremner River, AK, USA   \n",
       "1   _US-REF  AK    TNA                                 Tin City, AK, USA   \n",
       "2   _US-REF  AT    PMR                                    Palmer, Alaska   \n",
       "3   _US-REF  AT   SDPT                                Sand Point, Alaska   \n",
       "4   _US-REF  AT    SMY                                    Shemya, Alaska   \n",
       "5   _US-REF  BK    CMB               Columbia College, Columbia, CA, USA   \n",
       "6   _US-REF  BK   HUMO                            Hull Mountain, OR, USA   \n",
       "7   _US-REF  BK   MCCM      Marconi Conference Center, Marshall, CA, USA   \n",
       "8   _US-REF  BK    SAO  San Andreas Geophysical Obs., Hollister, CA, USA   \n",
       "9   _US-REF  BK    WDC             Whiskeytown Dam, Whiskeytown, CA, USA   \n",
       "10  _US-REF  CI    GMR                 Granite Mountains Research Center   \n",
       "11  _US-REF  CI    ISA                                          Isabella   \n",
       "12  _US-REF  CI   PASC      Art Center College of Design (GSN-affiliate)   \n",
       "13  _US-REF  ET   SWET                                        Sewanee,TN   \n",
       "14  _US-REF  II   KDAK                        Kodiak Island, Alaska, USA   \n",
       "15  _US-REF  II    PFO                       Pinon Flat, California, USA   \n",
       "16  _US-REF  II    PFO                       Pinon Flat, California, USA   \n",
       "17  _US-REF  IM   ATTU                              Attu Island, AK, USA   \n",
       "18  _US-REF  IM  ATTUB                              Attu Island, AK, USA   \n",
       "19  _US-REF  IM   NV31                 NVAR Array Site 31, Mina, NV, USA   \n",
       "\n",
       "      LAT     LON    ELEV       START         END     STATUS STATE  \n",
       "0   60.97 -144.61   842.0  2004/01/01  2599/12/31  Operating    AK  \n",
       "1   65.56 -167.93    74.0  2004/01/01  2599/12/31  Operating    AK  \n",
       "2   61.59 -149.13   100.0  2004/01/01  2599/12/31  Operating    AK  \n",
       "3   55.35 -160.48    74.0  2004/01/01  2599/12/31  Operating    AK  \n",
       "4   52.73  174.10    58.0  2004/01/01  2599/12/31  Operating    AK  \n",
       "5   38.03 -120.39   697.0  2004/01/01  2599/12/31  Operating    CA  \n",
       "6   42.61 -122.96   554.9  2004/01/01  2599/12/31  Operating    OR  \n",
       "7   38.14 -122.88    -7.7  2006/02/03  2599/12/31  Operating    CA  \n",
       "8   36.76 -121.45   317.2  2004/01/01  2599/12/31  Operating    CA  \n",
       "9   40.58 -122.54   268.3  2004/01/01  2599/12/31  Operating    CA  \n",
       "10  34.78 -115.66  1326.0  2006/04/04  2599/12/31  Operating  None  \n",
       "11  35.66 -118.47   873.0  2004/01/01  2599/12/31  Operating  None  \n",
       "12  34.17 -118.19   341.0  2006/10/05  2599/12/31  Operating  None  \n",
       "13  35.22  -85.93   581.0  2004/01/01  2599/12/31  Operating    TN  \n",
       "14  57.78 -152.58   152.0  2004/01/01  2599/12/31  Operating    AK  \n",
       "15  33.61 -116.46  1280.0  2004/01/01  2006/07/12      Ended    CA  \n",
       "16  33.61 -116.46  1280.0  2006/07/13  2599/12/31  Operating    CA  \n",
       "17  52.88  173.16   250.0  2004/01/01  2006/06/20      Ended    AK  \n",
       "18  52.88  173.16   250.0  2006/06/20  2010/04/01      Ended    AK  \n",
       "19  38.43 -118.16  1509.0  2004/01/01  2599/12/31  Operating    NV  "
      ]
     },
     "execution_count": 37,
     "metadata": {},
     "output_type": "execute_result"
    }
   ],
   "source": [
    "df.head(20)"
   ]
  },
  {
   "cell_type": "code",
   "execution_count": 38,
   "metadata": {},
   "outputs": [
    {
     "data": {
      "text/plain": [
       "array(['AK', 'CA', 'OR', None, 'TN', 'NV', 'WY', 'TX', 'MO', 'FL', 'MA',\n",
       "       'DK', 'PA', 'AZ', 'IN', 'NM', 'NE', 'SD', 'SC', 'CO', 'ND', 'VA',\n",
       "       'MN', 'GA', 'OK', 'MI', 'OH', 'MT', 'AL', 'KS', 'WI', 'UT', 'WA',\n",
       "       'IL', 'ID', 'AR', 'MS', 'ME', 'IA'], dtype=object)"
      ]
     },
     "execution_count": 38,
     "metadata": {},
     "output_type": "execute_result"
    }
   ],
   "source": [
    "df['STATE'].unique()"
   ]
  },
  {
   "cell_type": "code",
   "execution_count": 39,
   "metadata": {},
   "outputs": [
    {
     "data": {
      "text/html": [
       "<div>\n",
       "<style scoped>\n",
       "    .dataframe tbody tr th:only-of-type {\n",
       "        vertical-align: middle;\n",
       "    }\n",
       "\n",
       "    .dataframe tbody tr th {\n",
       "        vertical-align: top;\n",
       "    }\n",
       "\n",
       "    .dataframe thead th {\n",
       "        text-align: right;\n",
       "    }\n",
       "</style>\n",
       "<table border=\"1\" class=\"dataframe\">\n",
       "  <thead>\n",
       "    <tr style=\"text-align: right;\">\n",
       "      <th></th>\n",
       "      <th>VNET</th>\n",
       "      <th>NET</th>\n",
       "      <th>STA</th>\n",
       "      <th>SITE DESCRIPTION</th>\n",
       "      <th>LAT</th>\n",
       "      <th>LON</th>\n",
       "      <th>ELEV</th>\n",
       "      <th>START</th>\n",
       "      <th>END</th>\n",
       "      <th>STATUS</th>\n",
       "      <th>STATE</th>\n",
       "    </tr>\n",
       "  </thead>\n",
       "  <tbody>\n",
       "    <tr>\n",
       "      <th>10</th>\n",
       "      <td>_US-REF</td>\n",
       "      <td>CI</td>\n",
       "      <td>GMR</td>\n",
       "      <td>Granite Mountains Research Center</td>\n",
       "      <td>34.78</td>\n",
       "      <td>-115.66</td>\n",
       "      <td>1326.0</td>\n",
       "      <td>2006/04/04</td>\n",
       "      <td>2599/12/31</td>\n",
       "      <td>Operating</td>\n",
       "      <td>None</td>\n",
       "    </tr>\n",
       "    <tr>\n",
       "      <th>11</th>\n",
       "      <td>_US-REF</td>\n",
       "      <td>CI</td>\n",
       "      <td>ISA</td>\n",
       "      <td>Isabella</td>\n",
       "      <td>35.66</td>\n",
       "      <td>-118.47</td>\n",
       "      <td>873.0</td>\n",
       "      <td>2004/01/01</td>\n",
       "      <td>2599/12/31</td>\n",
       "      <td>Operating</td>\n",
       "      <td>None</td>\n",
       "    </tr>\n",
       "    <tr>\n",
       "      <th>12</th>\n",
       "      <td>_US-REF</td>\n",
       "      <td>CI</td>\n",
       "      <td>PASC</td>\n",
       "      <td>Art Center College of Design (GSN-affiliate)</td>\n",
       "      <td>34.17</td>\n",
       "      <td>-118.19</td>\n",
       "      <td>341.0</td>\n",
       "      <td>2006/10/05</td>\n",
       "      <td>2599/12/31</td>\n",
       "      <td>Operating</td>\n",
       "      <td>None</td>\n",
       "    </tr>\n",
       "    <tr>\n",
       "      <th>23</th>\n",
       "      <td>_US-REF</td>\n",
       "      <td>IU</td>\n",
       "      <td>ANMO</td>\n",
       "      <td>Albuquerque, New Mexico, USA</td>\n",
       "      <td>34.95</td>\n",
       "      <td>-106.46</td>\n",
       "      <td>1820.0</td>\n",
       "      <td>2004/01/01</td>\n",
       "      <td>2599/12/31</td>\n",
       "      <td>Operating</td>\n",
       "      <td>None</td>\n",
       "    </tr>\n",
       "    <tr>\n",
       "      <th>37</th>\n",
       "      <td>_US-REF</td>\n",
       "      <td>LD</td>\n",
       "      <td>PAL</td>\n",
       "      <td>Palisades, New York</td>\n",
       "      <td>41.01</td>\n",
       "      <td>-73.91</td>\n",
       "      <td>66.0</td>\n",
       "      <td>2004/01/01</td>\n",
       "      <td>2599/12/31</td>\n",
       "      <td>Operating</td>\n",
       "      <td>None</td>\n",
       "    </tr>\n",
       "    <tr>\n",
       "      <th>66</th>\n",
       "      <td>_US-REF</td>\n",
       "      <td>US</td>\n",
       "      <td>BINY</td>\n",
       "      <td>Binghamton, New York, USA</td>\n",
       "      <td>42.20</td>\n",
       "      <td>-75.99</td>\n",
       "      <td>498.0</td>\n",
       "      <td>2004/01/01</td>\n",
       "      <td>2599/12/31</td>\n",
       "      <td>Operating</td>\n",
       "      <td>None</td>\n",
       "    </tr>\n",
       "    <tr>\n",
       "      <th>74</th>\n",
       "      <td>_US-REF</td>\n",
       "      <td>US</td>\n",
       "      <td>CNNC</td>\n",
       "      <td>Cliffs of the Neuse, North Carolina, USA</td>\n",
       "      <td>35.24</td>\n",
       "      <td>-77.89</td>\n",
       "      <td>29.0</td>\n",
       "      <td>2006/06/25</td>\n",
       "      <td>2018/09/25</td>\n",
       "      <td>Ended</td>\n",
       "      <td>None</td>\n",
       "    </tr>\n",
       "    <tr>\n",
       "      <th>94</th>\n",
       "      <td>_US-REF</td>\n",
       "      <td>US</td>\n",
       "      <td>LBNH</td>\n",
       "      <td>Lisbon, New Hampshire, USA</td>\n",
       "      <td>44.24</td>\n",
       "      <td>-71.93</td>\n",
       "      <td>367.0</td>\n",
       "      <td>2004/01/01</td>\n",
       "      <td>2599/12/31</td>\n",
       "      <td>Operating</td>\n",
       "      <td>None</td>\n",
       "    </tr>\n",
       "    <tr>\n",
       "      <th>95</th>\n",
       "      <td>_US-REF</td>\n",
       "      <td>US</td>\n",
       "      <td>LONY</td>\n",
       "      <td>Lake Ozonia, New York, USA</td>\n",
       "      <td>44.62</td>\n",
       "      <td>-74.58</td>\n",
       "      <td>440.0</td>\n",
       "      <td>2005/10/06</td>\n",
       "      <td>2599/12/31</td>\n",
       "      <td>Operating</td>\n",
       "      <td>None</td>\n",
       "    </tr>\n",
       "    <tr>\n",
       "      <th>104</th>\n",
       "      <td>_US-REF</td>\n",
       "      <td>US</td>\n",
       "      <td>NHSC</td>\n",
       "      <td>New Hope, South Carolina, USA</td>\n",
       "      <td>33.11</td>\n",
       "      <td>-80.18</td>\n",
       "      <td>11.0</td>\n",
       "      <td>2004/01/01</td>\n",
       "      <td>2599/12/31</td>\n",
       "      <td>Operating</td>\n",
       "      <td>None</td>\n",
       "    </tr>\n",
       "  </tbody>\n",
       "</table>\n",
       "</div>"
      ],
      "text/plain": [
       "        VNET NET   STA                              SITE DESCRIPTION    LAT  \\\n",
       "10   _US-REF  CI   GMR             Granite Mountains Research Center  34.78   \n",
       "11   _US-REF  CI   ISA                                      Isabella  35.66   \n",
       "12   _US-REF  CI  PASC  Art Center College of Design (GSN-affiliate)  34.17   \n",
       "23   _US-REF  IU  ANMO                  Albuquerque, New Mexico, USA  34.95   \n",
       "37   _US-REF  LD   PAL                           Palisades, New York  41.01   \n",
       "66   _US-REF  US  BINY                     Binghamton, New York, USA  42.20   \n",
       "74   _US-REF  US  CNNC      Cliffs of the Neuse, North Carolina, USA  35.24   \n",
       "94   _US-REF  US  LBNH                    Lisbon, New Hampshire, USA  44.24   \n",
       "95   _US-REF  US  LONY                    Lake Ozonia, New York, USA  44.62   \n",
       "104  _US-REF  US  NHSC                 New Hope, South Carolina, USA  33.11   \n",
       "\n",
       "        LON    ELEV       START         END     STATUS STATE  \n",
       "10  -115.66  1326.0  2006/04/04  2599/12/31  Operating  None  \n",
       "11  -118.47   873.0  2004/01/01  2599/12/31  Operating  None  \n",
       "12  -118.19   341.0  2006/10/05  2599/12/31  Operating  None  \n",
       "23  -106.46  1820.0  2004/01/01  2599/12/31  Operating  None  \n",
       "37   -73.91    66.0  2004/01/01  2599/12/31  Operating  None  \n",
       "66   -75.99   498.0  2004/01/01  2599/12/31  Operating  None  \n",
       "74   -77.89    29.0  2006/06/25  2018/09/25      Ended  None  \n",
       "94   -71.93   367.0  2004/01/01  2599/12/31  Operating  None  \n",
       "95   -74.58   440.0  2005/10/06  2599/12/31  Operating  None  \n",
       "104  -80.18    11.0  2004/01/01  2599/12/31  Operating  None  "
      ]
     },
     "execution_count": 39,
     "metadata": {},
     "output_type": "execute_result"
    }
   ],
   "source": [
    "df[df['STATE'].isnull()]"
   ]
  },
  {
   "cell_type": "markdown",
   "metadata": {},
   "source": [
    "Oh Calamity!\n",
    "\n",
    "While this works perfectly for most of the entries, there are some states that are two words separated by a space that get broken up by re...\n",
    "\n",
    "We can modify the function for these certain exceptions"
   ]
  },
  {
   "cell_type": "code",
   "execution_count": 40,
   "metadata": {},
   "outputs": [],
   "source": [
    "multi_word_states = [x for x in state_name_dict.keys() if len(x.split()) > 1]"
   ]
  },
  {
   "cell_type": "code",
   "execution_count": 41,
   "metadata": {},
   "outputs": [
    {
     "data": {
      "text/plain": [
       "['American Samoa',\n",
       " 'District of Columbia',\n",
       " 'New Hampshire',\n",
       " 'New Jersey',\n",
       " 'New Mexico',\n",
       " 'New York',\n",
       " 'North Carolina',\n",
       " 'North Dakota',\n",
       " 'Northern Mariana Islands',\n",
       " 'Philippine Islands',\n",
       " 'Puerto Rico',\n",
       " 'Rhode Island',\n",
       " 'South Carolina',\n",
       " 'South Dakota',\n",
       " 'Virgin Islands',\n",
       " 'West Virginia']"
      ]
     },
     "execution_count": 41,
     "metadata": {},
     "output_type": "execute_result"
    }
   ],
   "source": [
    "multi_word_states"
   ]
  },
  {
   "cell_type": "code",
   "execution_count": 42,
   "metadata": {},
   "outputs": [],
   "source": [
    "df_multi_word_states = df[df['STATE'].isnull()]"
   ]
  },
  {
   "cell_type": "code",
   "execution_count": 43,
   "metadata": {},
   "outputs": [
    {
     "data": {
      "text/html": [
       "<div>\n",
       "<style scoped>\n",
       "    .dataframe tbody tr th:only-of-type {\n",
       "        vertical-align: middle;\n",
       "    }\n",
       "\n",
       "    .dataframe tbody tr th {\n",
       "        vertical-align: top;\n",
       "    }\n",
       "\n",
       "    .dataframe thead th {\n",
       "        text-align: right;\n",
       "    }\n",
       "</style>\n",
       "<table border=\"1\" class=\"dataframe\">\n",
       "  <thead>\n",
       "    <tr style=\"text-align: right;\">\n",
       "      <th></th>\n",
       "      <th>VNET</th>\n",
       "      <th>NET</th>\n",
       "      <th>STA</th>\n",
       "      <th>SITE DESCRIPTION</th>\n",
       "      <th>LAT</th>\n",
       "      <th>LON</th>\n",
       "      <th>ELEV</th>\n",
       "      <th>START</th>\n",
       "      <th>END</th>\n",
       "      <th>STATUS</th>\n",
       "      <th>STATE</th>\n",
       "    </tr>\n",
       "  </thead>\n",
       "  <tbody>\n",
       "    <tr>\n",
       "      <th>10</th>\n",
       "      <td>_US-REF</td>\n",
       "      <td>CI</td>\n",
       "      <td>GMR</td>\n",
       "      <td>Granite Mountains Research Center</td>\n",
       "      <td>34.78</td>\n",
       "      <td>-115.66</td>\n",
       "      <td>1326.0</td>\n",
       "      <td>2006/04/04</td>\n",
       "      <td>2599/12/31</td>\n",
       "      <td>Operating</td>\n",
       "      <td>None</td>\n",
       "    </tr>\n",
       "    <tr>\n",
       "      <th>11</th>\n",
       "      <td>_US-REF</td>\n",
       "      <td>CI</td>\n",
       "      <td>ISA</td>\n",
       "      <td>Isabella</td>\n",
       "      <td>35.66</td>\n",
       "      <td>-118.47</td>\n",
       "      <td>873.0</td>\n",
       "      <td>2004/01/01</td>\n",
       "      <td>2599/12/31</td>\n",
       "      <td>Operating</td>\n",
       "      <td>None</td>\n",
       "    </tr>\n",
       "    <tr>\n",
       "      <th>12</th>\n",
       "      <td>_US-REF</td>\n",
       "      <td>CI</td>\n",
       "      <td>PASC</td>\n",
       "      <td>Art Center College of Design (GSN-affiliate)</td>\n",
       "      <td>34.17</td>\n",
       "      <td>-118.19</td>\n",
       "      <td>341.0</td>\n",
       "      <td>2006/10/05</td>\n",
       "      <td>2599/12/31</td>\n",
       "      <td>Operating</td>\n",
       "      <td>None</td>\n",
       "    </tr>\n",
       "    <tr>\n",
       "      <th>23</th>\n",
       "      <td>_US-REF</td>\n",
       "      <td>IU</td>\n",
       "      <td>ANMO</td>\n",
       "      <td>Albuquerque, New Mexico, USA</td>\n",
       "      <td>34.95</td>\n",
       "      <td>-106.46</td>\n",
       "      <td>1820.0</td>\n",
       "      <td>2004/01/01</td>\n",
       "      <td>2599/12/31</td>\n",
       "      <td>Operating</td>\n",
       "      <td>None</td>\n",
       "    </tr>\n",
       "    <tr>\n",
       "      <th>37</th>\n",
       "      <td>_US-REF</td>\n",
       "      <td>LD</td>\n",
       "      <td>PAL</td>\n",
       "      <td>Palisades, New York</td>\n",
       "      <td>41.01</td>\n",
       "      <td>-73.91</td>\n",
       "      <td>66.0</td>\n",
       "      <td>2004/01/01</td>\n",
       "      <td>2599/12/31</td>\n",
       "      <td>Operating</td>\n",
       "      <td>None</td>\n",
       "    </tr>\n",
       "    <tr>\n",
       "      <th>66</th>\n",
       "      <td>_US-REF</td>\n",
       "      <td>US</td>\n",
       "      <td>BINY</td>\n",
       "      <td>Binghamton, New York, USA</td>\n",
       "      <td>42.20</td>\n",
       "      <td>-75.99</td>\n",
       "      <td>498.0</td>\n",
       "      <td>2004/01/01</td>\n",
       "      <td>2599/12/31</td>\n",
       "      <td>Operating</td>\n",
       "      <td>None</td>\n",
       "    </tr>\n",
       "    <tr>\n",
       "      <th>74</th>\n",
       "      <td>_US-REF</td>\n",
       "      <td>US</td>\n",
       "      <td>CNNC</td>\n",
       "      <td>Cliffs of the Neuse, North Carolina, USA</td>\n",
       "      <td>35.24</td>\n",
       "      <td>-77.89</td>\n",
       "      <td>29.0</td>\n",
       "      <td>2006/06/25</td>\n",
       "      <td>2018/09/25</td>\n",
       "      <td>Ended</td>\n",
       "      <td>None</td>\n",
       "    </tr>\n",
       "    <tr>\n",
       "      <th>94</th>\n",
       "      <td>_US-REF</td>\n",
       "      <td>US</td>\n",
       "      <td>LBNH</td>\n",
       "      <td>Lisbon, New Hampshire, USA</td>\n",
       "      <td>44.24</td>\n",
       "      <td>-71.93</td>\n",
       "      <td>367.0</td>\n",
       "      <td>2004/01/01</td>\n",
       "      <td>2599/12/31</td>\n",
       "      <td>Operating</td>\n",
       "      <td>None</td>\n",
       "    </tr>\n",
       "    <tr>\n",
       "      <th>95</th>\n",
       "      <td>_US-REF</td>\n",
       "      <td>US</td>\n",
       "      <td>LONY</td>\n",
       "      <td>Lake Ozonia, New York, USA</td>\n",
       "      <td>44.62</td>\n",
       "      <td>-74.58</td>\n",
       "      <td>440.0</td>\n",
       "      <td>2005/10/06</td>\n",
       "      <td>2599/12/31</td>\n",
       "      <td>Operating</td>\n",
       "      <td>None</td>\n",
       "    </tr>\n",
       "    <tr>\n",
       "      <th>104</th>\n",
       "      <td>_US-REF</td>\n",
       "      <td>US</td>\n",
       "      <td>NHSC</td>\n",
       "      <td>New Hope, South Carolina, USA</td>\n",
       "      <td>33.11</td>\n",
       "      <td>-80.18</td>\n",
       "      <td>11.0</td>\n",
       "      <td>2004/01/01</td>\n",
       "      <td>2599/12/31</td>\n",
       "      <td>Operating</td>\n",
       "      <td>None</td>\n",
       "    </tr>\n",
       "  </tbody>\n",
       "</table>\n",
       "</div>"
      ],
      "text/plain": [
       "        VNET NET   STA                              SITE DESCRIPTION    LAT  \\\n",
       "10   _US-REF  CI   GMR             Granite Mountains Research Center  34.78   \n",
       "11   _US-REF  CI   ISA                                      Isabella  35.66   \n",
       "12   _US-REF  CI  PASC  Art Center College of Design (GSN-affiliate)  34.17   \n",
       "23   _US-REF  IU  ANMO                  Albuquerque, New Mexico, USA  34.95   \n",
       "37   _US-REF  LD   PAL                           Palisades, New York  41.01   \n",
       "66   _US-REF  US  BINY                     Binghamton, New York, USA  42.20   \n",
       "74   _US-REF  US  CNNC      Cliffs of the Neuse, North Carolina, USA  35.24   \n",
       "94   _US-REF  US  LBNH                    Lisbon, New Hampshire, USA  44.24   \n",
       "95   _US-REF  US  LONY                    Lake Ozonia, New York, USA  44.62   \n",
       "104  _US-REF  US  NHSC                 New Hope, South Carolina, USA  33.11   \n",
       "\n",
       "        LON    ELEV       START         END     STATUS STATE  \n",
       "10  -115.66  1326.0  2006/04/04  2599/12/31  Operating  None  \n",
       "11  -118.47   873.0  2004/01/01  2599/12/31  Operating  None  \n",
       "12  -118.19   341.0  2006/10/05  2599/12/31  Operating  None  \n",
       "23  -106.46  1820.0  2004/01/01  2599/12/31  Operating  None  \n",
       "37   -73.91    66.0  2004/01/01  2599/12/31  Operating  None  \n",
       "66   -75.99   498.0  2004/01/01  2599/12/31  Operating  None  \n",
       "74   -77.89    29.0  2006/06/25  2018/09/25      Ended  None  \n",
       "94   -71.93   367.0  2004/01/01  2599/12/31  Operating  None  \n",
       "95   -74.58   440.0  2005/10/06  2599/12/31  Operating  None  \n",
       "104  -80.18    11.0  2004/01/01  2599/12/31  Operating  None  "
      ]
     },
     "execution_count": 43,
     "metadata": {},
     "output_type": "execute_result"
    }
   ],
   "source": [
    "df_multi_word_states"
   ]
  },
  {
   "cell_type": "code",
   "execution_count": 44,
   "metadata": {},
   "outputs": [
    {
     "name": "stdout",
     "output_type": "stream",
     "text": [
      "['Albuquerque', ' New Mexico', ' USA']\n"
     ]
    }
   ],
   "source": [
    "for state in multi_word_states:\n",
    "    if state in df_multi_word_states['SITE DESCRIPTION'][23]:\n",
    "        print(re.split('[,]', df_multi_word_states['SITE DESCRIPTION'][23]))"
   ]
  },
  {
   "cell_type": "code",
   "execution_count": 45,
   "metadata": {},
   "outputs": [
    {
     "name": "stdout",
     "output_type": "stream",
     "text": [
      "True\n"
     ]
    }
   ],
   "source": [
    "if 'New Mexico' in df_multi_word_states['SITE DESCRIPTION'][23]: print(True)"
   ]
  },
  {
   "cell_type": "markdown",
   "metadata": {},
   "source": [
    "This will work, I think!  Lets add this to the function and see if we can capture the States that have more than one word in the name"
   ]
  },
  {
   "cell_type": "code",
   "execution_count": 46,
   "metadata": {},
   "outputs": [],
   "source": [
    "# Modified the function by pulling the imports, dictionary creations, and multi_word_state list out\n",
    "\n",
    "import us\n",
    "import re\n",
    "state_abbrev_dict = us.states.mapping('abbr', 'name')\n",
    "state_name_dict = us.states.mapping('name', 'abbr')\n",
    "\n",
    "multi_word_states = [x for x in state_name_dict.keys() if len(x.split()) > 1]\n",
    "\n",
    "def get_State(site, state_abbrev_dict, state_name_dict, multi_word_states):\n",
    "    \"\"\"Function to parse 'SITE_DESCRIPTION' for US STATE abbreviation\n",
    "    \n",
    "    Assumes\n",
    "    :site a string\n",
    "    :state_abbrev_dict a dictionary\n",
    "    :state_name_dict a dictionary\n",
    "    :multi_word_states a list\n",
    "    \n",
    "    Checks first whether the site contains a multi_word_state\n",
    "    Uses the look-up dictionaries to get the proper STATE abbreviation\n",
    "    \n",
    "    Returns a string\n",
    "    \"\"\"\n",
    "    \n",
    "    multi_word_state_found = 0\n",
    "    \n",
    "    for state in multi_word_states:\n",
    "        if state in site:\n",
    "            site_list = site.split(sep=',')\n",
    "            multi_word_state_found = 1\n",
    "            \n",
    "    if multi_word_state_found == 0:\n",
    "        site_list = re.split('[, ]', site)\n",
    "    \n",
    "    # If the state name is multi word, there is a leading white space that needs\n",
    "    # to be stripped in order for the look-up to work\n",
    "    for item in site_list:\n",
    "        if item.strip() in state_abbrev_dict.keys():\n",
    "            return item.strip()\n",
    "        elif item.strip() in state_name_dict.keys():\n",
    "            return state_name_dict[item.strip()]\n"
   ]
  },
  {
   "cell_type": "code",
   "execution_count": 47,
   "metadata": {},
   "outputs": [],
   "source": [
    "df.drop('STATE', axis=1, inplace=True)"
   ]
  },
  {
   "cell_type": "code",
   "execution_count": 48,
   "metadata": {},
   "outputs": [],
   "source": [
    "df['STATE'] = df['SITE DESCRIPTION'].apply(get_State, args=(state_abbrev_dict, state_name_dict, multi_word_states))"
   ]
  },
  {
   "cell_type": "code",
   "execution_count": 49,
   "metadata": {},
   "outputs": [
    {
     "data": {
      "text/html": [
       "<div>\n",
       "<style scoped>\n",
       "    .dataframe tbody tr th:only-of-type {\n",
       "        vertical-align: middle;\n",
       "    }\n",
       "\n",
       "    .dataframe tbody tr th {\n",
       "        vertical-align: top;\n",
       "    }\n",
       "\n",
       "    .dataframe thead th {\n",
       "        text-align: right;\n",
       "    }\n",
       "</style>\n",
       "<table border=\"1\" class=\"dataframe\">\n",
       "  <thead>\n",
       "    <tr style=\"text-align: right;\">\n",
       "      <th></th>\n",
       "      <th>VNET</th>\n",
       "      <th>NET</th>\n",
       "      <th>STA</th>\n",
       "      <th>SITE DESCRIPTION</th>\n",
       "      <th>LAT</th>\n",
       "      <th>LON</th>\n",
       "      <th>ELEV</th>\n",
       "      <th>START</th>\n",
       "      <th>END</th>\n",
       "      <th>STATUS</th>\n",
       "      <th>STATE</th>\n",
       "    </tr>\n",
       "  </thead>\n",
       "  <tbody>\n",
       "    <tr>\n",
       "      <th>0</th>\n",
       "      <td>_US-REF</td>\n",
       "      <td>AK</td>\n",
       "      <td>BMR</td>\n",
       "      <td>Bremner River, AK, USA</td>\n",
       "      <td>60.97</td>\n",
       "      <td>-144.61</td>\n",
       "      <td>842.0</td>\n",
       "      <td>2004/01/01</td>\n",
       "      <td>2599/12/31</td>\n",
       "      <td>Operating</td>\n",
       "      <td>AK</td>\n",
       "    </tr>\n",
       "    <tr>\n",
       "      <th>1</th>\n",
       "      <td>_US-REF</td>\n",
       "      <td>AK</td>\n",
       "      <td>TNA</td>\n",
       "      <td>Tin City, AK, USA</td>\n",
       "      <td>65.56</td>\n",
       "      <td>-167.93</td>\n",
       "      <td>74.0</td>\n",
       "      <td>2004/01/01</td>\n",
       "      <td>2599/12/31</td>\n",
       "      <td>Operating</td>\n",
       "      <td>AK</td>\n",
       "    </tr>\n",
       "    <tr>\n",
       "      <th>2</th>\n",
       "      <td>_US-REF</td>\n",
       "      <td>AT</td>\n",
       "      <td>PMR</td>\n",
       "      <td>Palmer, Alaska</td>\n",
       "      <td>61.59</td>\n",
       "      <td>-149.13</td>\n",
       "      <td>100.0</td>\n",
       "      <td>2004/01/01</td>\n",
       "      <td>2599/12/31</td>\n",
       "      <td>Operating</td>\n",
       "      <td>AK</td>\n",
       "    </tr>\n",
       "    <tr>\n",
       "      <th>3</th>\n",
       "      <td>_US-REF</td>\n",
       "      <td>AT</td>\n",
       "      <td>SDPT</td>\n",
       "      <td>Sand Point, Alaska</td>\n",
       "      <td>55.35</td>\n",
       "      <td>-160.48</td>\n",
       "      <td>74.0</td>\n",
       "      <td>2004/01/01</td>\n",
       "      <td>2599/12/31</td>\n",
       "      <td>Operating</td>\n",
       "      <td>AK</td>\n",
       "    </tr>\n",
       "    <tr>\n",
       "      <th>4</th>\n",
       "      <td>_US-REF</td>\n",
       "      <td>AT</td>\n",
       "      <td>SMY</td>\n",
       "      <td>Shemya, Alaska</td>\n",
       "      <td>52.73</td>\n",
       "      <td>174.10</td>\n",
       "      <td>58.0</td>\n",
       "      <td>2004/01/01</td>\n",
       "      <td>2599/12/31</td>\n",
       "      <td>Operating</td>\n",
       "      <td>AK</td>\n",
       "    </tr>\n",
       "    <tr>\n",
       "      <th>5</th>\n",
       "      <td>_US-REF</td>\n",
       "      <td>BK</td>\n",
       "      <td>CMB</td>\n",
       "      <td>Columbia College, Columbia, CA, USA</td>\n",
       "      <td>38.03</td>\n",
       "      <td>-120.39</td>\n",
       "      <td>697.0</td>\n",
       "      <td>2004/01/01</td>\n",
       "      <td>2599/12/31</td>\n",
       "      <td>Operating</td>\n",
       "      <td>CA</td>\n",
       "    </tr>\n",
       "    <tr>\n",
       "      <th>6</th>\n",
       "      <td>_US-REF</td>\n",
       "      <td>BK</td>\n",
       "      <td>HUMO</td>\n",
       "      <td>Hull Mountain, OR, USA</td>\n",
       "      <td>42.61</td>\n",
       "      <td>-122.96</td>\n",
       "      <td>554.9</td>\n",
       "      <td>2004/01/01</td>\n",
       "      <td>2599/12/31</td>\n",
       "      <td>Operating</td>\n",
       "      <td>OR</td>\n",
       "    </tr>\n",
       "    <tr>\n",
       "      <th>7</th>\n",
       "      <td>_US-REF</td>\n",
       "      <td>BK</td>\n",
       "      <td>MCCM</td>\n",
       "      <td>Marconi Conference Center, Marshall, CA, USA</td>\n",
       "      <td>38.14</td>\n",
       "      <td>-122.88</td>\n",
       "      <td>-7.7</td>\n",
       "      <td>2006/02/03</td>\n",
       "      <td>2599/12/31</td>\n",
       "      <td>Operating</td>\n",
       "      <td>CA</td>\n",
       "    </tr>\n",
       "    <tr>\n",
       "      <th>8</th>\n",
       "      <td>_US-REF</td>\n",
       "      <td>BK</td>\n",
       "      <td>SAO</td>\n",
       "      <td>San Andreas Geophysical Obs., Hollister, CA, USA</td>\n",
       "      <td>36.76</td>\n",
       "      <td>-121.45</td>\n",
       "      <td>317.2</td>\n",
       "      <td>2004/01/01</td>\n",
       "      <td>2599/12/31</td>\n",
       "      <td>Operating</td>\n",
       "      <td>CA</td>\n",
       "    </tr>\n",
       "    <tr>\n",
       "      <th>9</th>\n",
       "      <td>_US-REF</td>\n",
       "      <td>BK</td>\n",
       "      <td>WDC</td>\n",
       "      <td>Whiskeytown Dam, Whiskeytown, CA, USA</td>\n",
       "      <td>40.58</td>\n",
       "      <td>-122.54</td>\n",
       "      <td>268.3</td>\n",
       "      <td>2004/01/01</td>\n",
       "      <td>2599/12/31</td>\n",
       "      <td>Operating</td>\n",
       "      <td>CA</td>\n",
       "    </tr>\n",
       "    <tr>\n",
       "      <th>10</th>\n",
       "      <td>_US-REF</td>\n",
       "      <td>CI</td>\n",
       "      <td>GMR</td>\n",
       "      <td>Granite Mountains Research Center</td>\n",
       "      <td>34.78</td>\n",
       "      <td>-115.66</td>\n",
       "      <td>1326.0</td>\n",
       "      <td>2006/04/04</td>\n",
       "      <td>2599/12/31</td>\n",
       "      <td>Operating</td>\n",
       "      <td>None</td>\n",
       "    </tr>\n",
       "    <tr>\n",
       "      <th>11</th>\n",
       "      <td>_US-REF</td>\n",
       "      <td>CI</td>\n",
       "      <td>ISA</td>\n",
       "      <td>Isabella</td>\n",
       "      <td>35.66</td>\n",
       "      <td>-118.47</td>\n",
       "      <td>873.0</td>\n",
       "      <td>2004/01/01</td>\n",
       "      <td>2599/12/31</td>\n",
       "      <td>Operating</td>\n",
       "      <td>None</td>\n",
       "    </tr>\n",
       "    <tr>\n",
       "      <th>12</th>\n",
       "      <td>_US-REF</td>\n",
       "      <td>CI</td>\n",
       "      <td>PASC</td>\n",
       "      <td>Art Center College of Design (GSN-affiliate)</td>\n",
       "      <td>34.17</td>\n",
       "      <td>-118.19</td>\n",
       "      <td>341.0</td>\n",
       "      <td>2006/10/05</td>\n",
       "      <td>2599/12/31</td>\n",
       "      <td>Operating</td>\n",
       "      <td>None</td>\n",
       "    </tr>\n",
       "    <tr>\n",
       "      <th>13</th>\n",
       "      <td>_US-REF</td>\n",
       "      <td>ET</td>\n",
       "      <td>SWET</td>\n",
       "      <td>Sewanee,TN</td>\n",
       "      <td>35.22</td>\n",
       "      <td>-85.93</td>\n",
       "      <td>581.0</td>\n",
       "      <td>2004/01/01</td>\n",
       "      <td>2599/12/31</td>\n",
       "      <td>Operating</td>\n",
       "      <td>TN</td>\n",
       "    </tr>\n",
       "    <tr>\n",
       "      <th>14</th>\n",
       "      <td>_US-REF</td>\n",
       "      <td>II</td>\n",
       "      <td>KDAK</td>\n",
       "      <td>Kodiak Island, Alaska, USA</td>\n",
       "      <td>57.78</td>\n",
       "      <td>-152.58</td>\n",
       "      <td>152.0</td>\n",
       "      <td>2004/01/01</td>\n",
       "      <td>2599/12/31</td>\n",
       "      <td>Operating</td>\n",
       "      <td>AK</td>\n",
       "    </tr>\n",
       "    <tr>\n",
       "      <th>15</th>\n",
       "      <td>_US-REF</td>\n",
       "      <td>II</td>\n",
       "      <td>PFO</td>\n",
       "      <td>Pinon Flat, California, USA</td>\n",
       "      <td>33.61</td>\n",
       "      <td>-116.46</td>\n",
       "      <td>1280.0</td>\n",
       "      <td>2004/01/01</td>\n",
       "      <td>2006/07/12</td>\n",
       "      <td>Ended</td>\n",
       "      <td>CA</td>\n",
       "    </tr>\n",
       "    <tr>\n",
       "      <th>16</th>\n",
       "      <td>_US-REF</td>\n",
       "      <td>II</td>\n",
       "      <td>PFO</td>\n",
       "      <td>Pinon Flat, California, USA</td>\n",
       "      <td>33.61</td>\n",
       "      <td>-116.46</td>\n",
       "      <td>1280.0</td>\n",
       "      <td>2006/07/13</td>\n",
       "      <td>2599/12/31</td>\n",
       "      <td>Operating</td>\n",
       "      <td>CA</td>\n",
       "    </tr>\n",
       "    <tr>\n",
       "      <th>17</th>\n",
       "      <td>_US-REF</td>\n",
       "      <td>IM</td>\n",
       "      <td>ATTU</td>\n",
       "      <td>Attu Island, AK, USA</td>\n",
       "      <td>52.88</td>\n",
       "      <td>173.16</td>\n",
       "      <td>250.0</td>\n",
       "      <td>2004/01/01</td>\n",
       "      <td>2006/06/20</td>\n",
       "      <td>Ended</td>\n",
       "      <td>AK</td>\n",
       "    </tr>\n",
       "    <tr>\n",
       "      <th>18</th>\n",
       "      <td>_US-REF</td>\n",
       "      <td>IM</td>\n",
       "      <td>ATTUB</td>\n",
       "      <td>Attu Island, AK, USA</td>\n",
       "      <td>52.88</td>\n",
       "      <td>173.16</td>\n",
       "      <td>250.0</td>\n",
       "      <td>2006/06/20</td>\n",
       "      <td>2010/04/01</td>\n",
       "      <td>Ended</td>\n",
       "      <td>AK</td>\n",
       "    </tr>\n",
       "    <tr>\n",
       "      <th>19</th>\n",
       "      <td>_US-REF</td>\n",
       "      <td>IM</td>\n",
       "      <td>NV31</td>\n",
       "      <td>NVAR Array Site 31, Mina, NV, USA</td>\n",
       "      <td>38.43</td>\n",
       "      <td>-118.16</td>\n",
       "      <td>1509.0</td>\n",
       "      <td>2004/01/01</td>\n",
       "      <td>2599/12/31</td>\n",
       "      <td>Operating</td>\n",
       "      <td>NV</td>\n",
       "    </tr>\n",
       "  </tbody>\n",
       "</table>\n",
       "</div>"
      ],
      "text/plain": [
       "       VNET NET    STA                                  SITE DESCRIPTION  \\\n",
       "0   _US-REF  AK    BMR                            Bremner River, AK, USA   \n",
       "1   _US-REF  AK    TNA                                 Tin City, AK, USA   \n",
       "2   _US-REF  AT    PMR                                    Palmer, Alaska   \n",
       "3   _US-REF  AT   SDPT                                Sand Point, Alaska   \n",
       "4   _US-REF  AT    SMY                                    Shemya, Alaska   \n",
       "5   _US-REF  BK    CMB               Columbia College, Columbia, CA, USA   \n",
       "6   _US-REF  BK   HUMO                            Hull Mountain, OR, USA   \n",
       "7   _US-REF  BK   MCCM      Marconi Conference Center, Marshall, CA, USA   \n",
       "8   _US-REF  BK    SAO  San Andreas Geophysical Obs., Hollister, CA, USA   \n",
       "9   _US-REF  BK    WDC             Whiskeytown Dam, Whiskeytown, CA, USA   \n",
       "10  _US-REF  CI    GMR                 Granite Mountains Research Center   \n",
       "11  _US-REF  CI    ISA                                          Isabella   \n",
       "12  _US-REF  CI   PASC      Art Center College of Design (GSN-affiliate)   \n",
       "13  _US-REF  ET   SWET                                        Sewanee,TN   \n",
       "14  _US-REF  II   KDAK                        Kodiak Island, Alaska, USA   \n",
       "15  _US-REF  II    PFO                       Pinon Flat, California, USA   \n",
       "16  _US-REF  II    PFO                       Pinon Flat, California, USA   \n",
       "17  _US-REF  IM   ATTU                              Attu Island, AK, USA   \n",
       "18  _US-REF  IM  ATTUB                              Attu Island, AK, USA   \n",
       "19  _US-REF  IM   NV31                 NVAR Array Site 31, Mina, NV, USA   \n",
       "\n",
       "      LAT     LON    ELEV       START         END     STATUS STATE  \n",
       "0   60.97 -144.61   842.0  2004/01/01  2599/12/31  Operating    AK  \n",
       "1   65.56 -167.93    74.0  2004/01/01  2599/12/31  Operating    AK  \n",
       "2   61.59 -149.13   100.0  2004/01/01  2599/12/31  Operating    AK  \n",
       "3   55.35 -160.48    74.0  2004/01/01  2599/12/31  Operating    AK  \n",
       "4   52.73  174.10    58.0  2004/01/01  2599/12/31  Operating    AK  \n",
       "5   38.03 -120.39   697.0  2004/01/01  2599/12/31  Operating    CA  \n",
       "6   42.61 -122.96   554.9  2004/01/01  2599/12/31  Operating    OR  \n",
       "7   38.14 -122.88    -7.7  2006/02/03  2599/12/31  Operating    CA  \n",
       "8   36.76 -121.45   317.2  2004/01/01  2599/12/31  Operating    CA  \n",
       "9   40.58 -122.54   268.3  2004/01/01  2599/12/31  Operating    CA  \n",
       "10  34.78 -115.66  1326.0  2006/04/04  2599/12/31  Operating  None  \n",
       "11  35.66 -118.47   873.0  2004/01/01  2599/12/31  Operating  None  \n",
       "12  34.17 -118.19   341.0  2006/10/05  2599/12/31  Operating  None  \n",
       "13  35.22  -85.93   581.0  2004/01/01  2599/12/31  Operating    TN  \n",
       "14  57.78 -152.58   152.0  2004/01/01  2599/12/31  Operating    AK  \n",
       "15  33.61 -116.46  1280.0  2004/01/01  2006/07/12      Ended    CA  \n",
       "16  33.61 -116.46  1280.0  2006/07/13  2599/12/31  Operating    CA  \n",
       "17  52.88  173.16   250.0  2004/01/01  2006/06/20      Ended    AK  \n",
       "18  52.88  173.16   250.0  2006/06/20  2010/04/01      Ended    AK  \n",
       "19  38.43 -118.16  1509.0  2004/01/01  2599/12/31  Operating    NV  "
      ]
     },
     "execution_count": 49,
     "metadata": {},
     "output_type": "execute_result"
    }
   ],
   "source": [
    "df.head(20)"
   ]
  },
  {
   "cell_type": "code",
   "execution_count": 50,
   "metadata": {},
   "outputs": [
    {
     "data": {
      "text/html": [
       "<div>\n",
       "<style scoped>\n",
       "    .dataframe tbody tr th:only-of-type {\n",
       "        vertical-align: middle;\n",
       "    }\n",
       "\n",
       "    .dataframe tbody tr th {\n",
       "        vertical-align: top;\n",
       "    }\n",
       "\n",
       "    .dataframe thead th {\n",
       "        text-align: right;\n",
       "    }\n",
       "</style>\n",
       "<table border=\"1\" class=\"dataframe\">\n",
       "  <thead>\n",
       "    <tr style=\"text-align: right;\">\n",
       "      <th></th>\n",
       "      <th>VNET</th>\n",
       "      <th>NET</th>\n",
       "      <th>STA</th>\n",
       "      <th>SITE DESCRIPTION</th>\n",
       "      <th>LAT</th>\n",
       "      <th>LON</th>\n",
       "      <th>ELEV</th>\n",
       "      <th>START</th>\n",
       "      <th>END</th>\n",
       "      <th>STATUS</th>\n",
       "      <th>STATE</th>\n",
       "    </tr>\n",
       "  </thead>\n",
       "  <tbody>\n",
       "    <tr>\n",
       "      <th>10</th>\n",
       "      <td>_US-REF</td>\n",
       "      <td>CI</td>\n",
       "      <td>GMR</td>\n",
       "      <td>Granite Mountains Research Center</td>\n",
       "      <td>34.78</td>\n",
       "      <td>-115.66</td>\n",
       "      <td>1326.0</td>\n",
       "      <td>2006/04/04</td>\n",
       "      <td>2599/12/31</td>\n",
       "      <td>Operating</td>\n",
       "      <td>None</td>\n",
       "    </tr>\n",
       "    <tr>\n",
       "      <th>11</th>\n",
       "      <td>_US-REF</td>\n",
       "      <td>CI</td>\n",
       "      <td>ISA</td>\n",
       "      <td>Isabella</td>\n",
       "      <td>35.66</td>\n",
       "      <td>-118.47</td>\n",
       "      <td>873.0</td>\n",
       "      <td>2004/01/01</td>\n",
       "      <td>2599/12/31</td>\n",
       "      <td>Operating</td>\n",
       "      <td>None</td>\n",
       "    </tr>\n",
       "    <tr>\n",
       "      <th>12</th>\n",
       "      <td>_US-REF</td>\n",
       "      <td>CI</td>\n",
       "      <td>PASC</td>\n",
       "      <td>Art Center College of Design (GSN-affiliate)</td>\n",
       "      <td>34.17</td>\n",
       "      <td>-118.19</td>\n",
       "      <td>341.0</td>\n",
       "      <td>2006/10/05</td>\n",
       "      <td>2599/12/31</td>\n",
       "      <td>Operating</td>\n",
       "      <td>None</td>\n",
       "    </tr>\n",
       "  </tbody>\n",
       "</table>\n",
       "</div>"
      ],
      "text/plain": [
       "       VNET NET   STA                              SITE DESCRIPTION    LAT  \\\n",
       "10  _US-REF  CI   GMR             Granite Mountains Research Center  34.78   \n",
       "11  _US-REF  CI   ISA                                      Isabella  35.66   \n",
       "12  _US-REF  CI  PASC  Art Center College of Design (GSN-affiliate)  34.17   \n",
       "\n",
       "       LON    ELEV       START         END     STATUS STATE  \n",
       "10 -115.66  1326.0  2006/04/04  2599/12/31  Operating  None  \n",
       "11 -118.47   873.0  2004/01/01  2599/12/31  Operating  None  \n",
       "12 -118.19   341.0  2006/10/05  2599/12/31  Operating  None  "
      ]
     },
     "execution_count": 50,
     "metadata": {},
     "output_type": "execute_result"
    }
   ],
   "source": [
    "df[df['STATE'].isnull()]"
   ]
  },
  {
   "cell_type": "markdown",
   "metadata": {},
   "source": [
    "Success!  There are only three stations without State names.  These can either be ignored or fixed manually"
   ]
  },
  {
   "cell_type": "code",
   "execution_count": 51,
   "metadata": {},
   "outputs": [
    {
     "data": {
      "text/plain": [
       "<matplotlib.axes._subplots.AxesSubplot at 0x7f228a1c34a8>"
      ]
     },
     "execution_count": 51,
     "metadata": {},
     "output_type": "execute_result"
    },
    {
     "data": {
      "image/png": "[encoded data removed]",
      "text/plain": [
       "<Figure size 864x576 with 1 Axes>"
      ]
     },
     "metadata": {
      "needs_background": "light"
     },
     "output_type": "display_data"
    }
   ],
   "source": [
    "fig = plt.figure(figsize=(12,8))\n",
    "sns.countplot(x='STATE', data=df)"
   ]
  },
  {
   "cell_type": "markdown",
   "metadata": {},
   "source": [
    "Let's order this by counts"
   ]
  },
  {
   "cell_type": "code",
   "execution_count": 52,
   "metadata": {},
   "outputs": [
    {
     "data": {
      "image/png": "[encoded data removed]",
      "text/plain": [
       "<Figure size 864x576 with 1 Axes>"
      ]
     },
     "metadata": {
      "needs_background": "light"
     },
     "output_type": "display_data"
    }
   ],
   "source": [
    "fig = plt.figure(figsize=(12,8))\n",
    "sns.countplot(x='STATE', data=df, order=df['STATE'].value_counts().index)\n",
    "plt.show()"
   ]
  },
  {
   "cell_type": "markdown",
   "metadata": {},
   "source": [
    "Lets use a nicer colormap"
   ]
  },
  {
   "cell_type": "code",
   "execution_count": 53,
   "metadata": {},
   "outputs": [
    {
     "data": {
      "image/png": "[encoded data removed]",
      "text/plain": [
       "<Figure size 864x576 with 1 Axes>"
      ]
     },
     "metadata": {
      "needs_background": "light"
     },
     "output_type": "display_data"
    }
   ],
   "source": [
    "fig = plt.figure(figsize=(12,8))\n",
    "sns.countplot(x='STATE', data=df, order=df['STATE'].value_counts().index, palette='coolwarm_r')\n",
    "plt.title('Sites by US State')\n",
    "plt.show()"
   ]
  },
  {
   "cell_type": "markdown",
   "metadata": {},
   "source": [
    "Woo!  TX has the second most number of USArray reference (non-travelling) sites"
   ]
  },
  {
   "cell_type": "markdown",
   "metadata": {},
   "source": [
    "Let's check-out get_State's performance"
   ]
  },
  {
   "cell_type": "code",
   "execution_count": 54,
   "metadata": {},
   "outputs": [
    {
     "data": {
      "text/plain": [
       "\u001b[0;31mSignature:\u001b[0m \u001b[0mget_State\u001b[0m\u001b[0;34m(\u001b[0m\u001b[0msite\u001b[0m\u001b[0;34m,\u001b[0m \u001b[0mstate_abbrev_dict\u001b[0m\u001b[0;34m,\u001b[0m \u001b[0mstate_name_dict\u001b[0m\u001b[0;34m,\u001b[0m \u001b[0mmulti_word_states\u001b[0m\u001b[0;34m)\u001b[0m\u001b[0;34m\u001b[0m\u001b[0;34m\u001b[0m\u001b[0m\n",
       "\u001b[0;31mDocstring:\u001b[0m\n",
       "Function to parse 'SITE_DESCRIPTION' for US STATE abbreviation\n",
       "\n",
       "Assumes\n",
       ":site a string\n",
       ":state_abbrev_dict a dictionary\n",
       ":state_name_dict a dictionary\n",
       ":multi_word_states a list\n",
       "\n",
       "Checks first whether the site contains a multi_word_state\n",
       "Uses the look-up dictionaries to get the proper STATE abbreviation\n",
       "\n",
       "Returns a string\n",
       "\u001b[0;31mFile:\u001b[0m      ~/proj/github/USArray_viz/nb/<ipython-input-46-b69cf6295417>\n",
       "\u001b[0;31mType:\u001b[0m      function\n"
      ]
     },
     "metadata": {},
     "output_type": "display_data"
    }
   ],
   "source": [
    "get_State?"
   ]
  },
  {
   "cell_type": "code",
   "execution_count": 55,
   "metadata": {},
   "outputs": [
    {
     "name": "stdout",
     "output_type": "stream",
     "text": [
      "1.42 ms ± 95.8 µs per loop (mean ± std. dev. of 7 runs, 100 loops each)\n"
     ]
    }
   ],
   "source": [
    "%%timeit\n",
    "df['SITE DESCRIPTION'].apply(get_State, args=(state_abbrev_dict, state_name_dict, multi_word_states))"
   ]
  },
  {
   "cell_type": "markdown",
   "metadata": {},
   "source": [
    "That seems reasonable"
   ]
  },
  {
   "cell_type": "markdown",
   "metadata": {},
   "source": [
    "**Manually correct 'STATE' for the three missing stations**"
   ]
  },
  {
   "cell_type": "markdown",
   "metadata": {},
   "source": [
    "GMR is in California\n",
    "\n",
    "ISA is in California\n",
    "\n",
    "PASC is in California"
   ]
  },
  {
   "cell_type": "code",
   "execution_count": 56,
   "metadata": {},
   "outputs": [
    {
     "data": {
      "text/html": [
       "<div>\n",
       "<style scoped>\n",
       "    .dataframe tbody tr th:only-of-type {\n",
       "        vertical-align: middle;\n",
       "    }\n",
       "\n",
       "    .dataframe tbody tr th {\n",
       "        vertical-align: top;\n",
       "    }\n",
       "\n",
       "    .dataframe thead th {\n",
       "        text-align: right;\n",
       "    }\n",
       "</style>\n",
       "<table border=\"1\" class=\"dataframe\">\n",
       "  <thead>\n",
       "    <tr style=\"text-align: right;\">\n",
       "      <th></th>\n",
       "      <th>VNET</th>\n",
       "      <th>NET</th>\n",
       "      <th>STA</th>\n",
       "      <th>SITE DESCRIPTION</th>\n",
       "      <th>LAT</th>\n",
       "      <th>LON</th>\n",
       "      <th>ELEV</th>\n",
       "      <th>START</th>\n",
       "      <th>END</th>\n",
       "      <th>STATUS</th>\n",
       "      <th>STATE</th>\n",
       "    </tr>\n",
       "  </thead>\n",
       "  <tbody>\n",
       "    <tr>\n",
       "      <th>10</th>\n",
       "      <td>_US-REF</td>\n",
       "      <td>CI</td>\n",
       "      <td>GMR</td>\n",
       "      <td>Granite Mountains Research Center</td>\n",
       "      <td>34.78</td>\n",
       "      <td>-115.66</td>\n",
       "      <td>1326.0</td>\n",
       "      <td>2006/04/04</td>\n",
       "      <td>2599/12/31</td>\n",
       "      <td>Operating</td>\n",
       "      <td>None</td>\n",
       "    </tr>\n",
       "  </tbody>\n",
       "</table>\n",
       "</div>"
      ],
      "text/plain": [
       "       VNET NET  STA                   SITE DESCRIPTION    LAT     LON  \\\n",
       "10  _US-REF  CI  GMR  Granite Mountains Research Center  34.78 -115.66   \n",
       "\n",
       "      ELEV       START         END     STATUS STATE  \n",
       "10  1326.0  2006/04/04  2599/12/31  Operating  None  "
      ]
     },
     "execution_count": 56,
     "metadata": {},
     "output_type": "execute_result"
    }
   ],
   "source": [
    "df[df['STA'] == 'GMR']"
   ]
  },
  {
   "cell_type": "code",
   "execution_count": 57,
   "metadata": {},
   "outputs": [],
   "source": [
    "df.at[10, 'STATE'] = 'CA'"
   ]
  },
  {
   "cell_type": "code",
   "execution_count": 58,
   "metadata": {},
   "outputs": [
    {
     "data": {
      "text/html": [
       "<div>\n",
       "<style scoped>\n",
       "    .dataframe tbody tr th:only-of-type {\n",
       "        vertical-align: middle;\n",
       "    }\n",
       "\n",
       "    .dataframe tbody tr th {\n",
       "        vertical-align: top;\n",
       "    }\n",
       "\n",
       "    .dataframe thead th {\n",
       "        text-align: right;\n",
       "    }\n",
       "</style>\n",
       "<table border=\"1\" class=\"dataframe\">\n",
       "  <thead>\n",
       "    <tr style=\"text-align: right;\">\n",
       "      <th></th>\n",
       "      <th>VNET</th>\n",
       "      <th>NET</th>\n",
       "      <th>STA</th>\n",
       "      <th>SITE DESCRIPTION</th>\n",
       "      <th>LAT</th>\n",
       "      <th>LON</th>\n",
       "      <th>ELEV</th>\n",
       "      <th>START</th>\n",
       "      <th>END</th>\n",
       "      <th>STATUS</th>\n",
       "      <th>STATE</th>\n",
       "    </tr>\n",
       "  </thead>\n",
       "  <tbody>\n",
       "    <tr>\n",
       "      <th>11</th>\n",
       "      <td>_US-REF</td>\n",
       "      <td>CI</td>\n",
       "      <td>ISA</td>\n",
       "      <td>Isabella</td>\n",
       "      <td>35.66</td>\n",
       "      <td>-118.47</td>\n",
       "      <td>873.0</td>\n",
       "      <td>2004/01/01</td>\n",
       "      <td>2599/12/31</td>\n",
       "      <td>Operating</td>\n",
       "      <td>None</td>\n",
       "    </tr>\n",
       "  </tbody>\n",
       "</table>\n",
       "</div>"
      ],
      "text/plain": [
       "       VNET NET  STA SITE DESCRIPTION    LAT     LON   ELEV       START  \\\n",
       "11  _US-REF  CI  ISA         Isabella  35.66 -118.47  873.0  2004/01/01   \n",
       "\n",
       "           END     STATUS STATE  \n",
       "11  2599/12/31  Operating  None  "
      ]
     },
     "execution_count": 58,
     "metadata": {},
     "output_type": "execute_result"
    }
   ],
   "source": [
    "df[df['STA'] == 'ISA']"
   ]
  },
  {
   "cell_type": "code",
   "execution_count": 59,
   "metadata": {},
   "outputs": [],
   "source": [
    "df.at[11, 'STATE'] = 'CA'"
   ]
  },
  {
   "cell_type": "code",
   "execution_count": 60,
   "metadata": {},
   "outputs": [
    {
     "data": {
      "text/html": [
       "<div>\n",
       "<style scoped>\n",
       "    .dataframe tbody tr th:only-of-type {\n",
       "        vertical-align: middle;\n",
       "    }\n",
       "\n",
       "    .dataframe tbody tr th {\n",
       "        vertical-align: top;\n",
       "    }\n",
       "\n",
       "    .dataframe thead th {\n",
       "        text-align: right;\n",
       "    }\n",
       "</style>\n",
       "<table border=\"1\" class=\"dataframe\">\n",
       "  <thead>\n",
       "    <tr style=\"text-align: right;\">\n",
       "      <th></th>\n",
       "      <th>VNET</th>\n",
       "      <th>NET</th>\n",
       "      <th>STA</th>\n",
       "      <th>SITE DESCRIPTION</th>\n",
       "      <th>LAT</th>\n",
       "      <th>LON</th>\n",
       "      <th>ELEV</th>\n",
       "      <th>START</th>\n",
       "      <th>END</th>\n",
       "      <th>STATUS</th>\n",
       "      <th>STATE</th>\n",
       "    </tr>\n",
       "  </thead>\n",
       "  <tbody>\n",
       "    <tr>\n",
       "      <th>12</th>\n",
       "      <td>_US-REF</td>\n",
       "      <td>CI</td>\n",
       "      <td>PASC</td>\n",
       "      <td>Art Center College of Design (GSN-affiliate)</td>\n",
       "      <td>34.17</td>\n",
       "      <td>-118.19</td>\n",
       "      <td>341.0</td>\n",
       "      <td>2006/10/05</td>\n",
       "      <td>2599/12/31</td>\n",
       "      <td>Operating</td>\n",
       "      <td>None</td>\n",
       "    </tr>\n",
       "  </tbody>\n",
       "</table>\n",
       "</div>"
      ],
      "text/plain": [
       "       VNET NET   STA                              SITE DESCRIPTION    LAT  \\\n",
       "12  _US-REF  CI  PASC  Art Center College of Design (GSN-affiliate)  34.17   \n",
       "\n",
       "       LON   ELEV       START         END     STATUS STATE  \n",
       "12 -118.19  341.0  2006/10/05  2599/12/31  Operating  None  "
      ]
     },
     "execution_count": 60,
     "metadata": {},
     "output_type": "execute_result"
    }
   ],
   "source": [
    "df[df['STA'] == 'PASC']"
   ]
  },
  {
   "cell_type": "code",
   "execution_count": 61,
   "metadata": {},
   "outputs": [],
   "source": [
    "df.at[12, 'STATE'] = 'CA'"
   ]
  },
  {
   "cell_type": "code",
   "execution_count": 62,
   "metadata": {},
   "outputs": [
    {
     "data": {
      "text/html": [
       "<div>\n",
       "<style scoped>\n",
       "    .dataframe tbody tr th:only-of-type {\n",
       "        vertical-align: middle;\n",
       "    }\n",
       "\n",
       "    .dataframe tbody tr th {\n",
       "        vertical-align: top;\n",
       "    }\n",
       "\n",
       "    .dataframe thead th {\n",
       "        text-align: right;\n",
       "    }\n",
       "</style>\n",
       "<table border=\"1\" class=\"dataframe\">\n",
       "  <thead>\n",
       "    <tr style=\"text-align: right;\">\n",
       "      <th></th>\n",
       "      <th>VNET</th>\n",
       "      <th>NET</th>\n",
       "      <th>STA</th>\n",
       "      <th>SITE DESCRIPTION</th>\n",
       "      <th>LAT</th>\n",
       "      <th>LON</th>\n",
       "      <th>ELEV</th>\n",
       "      <th>START</th>\n",
       "      <th>END</th>\n",
       "      <th>STATUS</th>\n",
       "      <th>STATE</th>\n",
       "    </tr>\n",
       "  </thead>\n",
       "  <tbody>\n",
       "  </tbody>\n",
       "</table>\n",
       "</div>"
      ],
      "text/plain": [
       "Empty DataFrame\n",
       "Columns: [VNET, NET, STA, SITE DESCRIPTION, LAT, LON, ELEV, START, END, STATUS, STATE]\n",
       "Index: []"
      ]
     },
     "execution_count": 62,
     "metadata": {},
     "output_type": "execute_result"
    }
   ],
   "source": [
    "df[df['STATE'].isnull()]"
   ]
  },
  {
   "cell_type": "markdown",
   "metadata": {},
   "source": [
    "Success!  Now all the stations have a 'STATE' value.  Re-do the coutplot"
   ]
  },
  {
   "cell_type": "code",
   "execution_count": 63,
   "metadata": {},
   "outputs": [
    {
     "data": {
      "image/png": "[encoded data removed]",
      "text/plain": [
       "<Figure size 864x576 with 1 Axes>"
      ]
     },
     "metadata": {
      "needs_background": "light"
     },
     "output_type": "display_data"
    }
   ],
   "source": [
    "fig = plt.figure(figsize=(12,8))\n",
    "sns.countplot(x='STATE', data=df, order=df['STATE'].value_counts().index, palette='coolwarm_r')\n",
    "plt.title('Stations by State')\n",
    "plt.show()"
   ]
  },
  {
   "cell_type": "markdown",
   "metadata": {},
   "source": [
    "### **Let's now plot the stations using Bokeh**"
   ]
  },
  {
   "cell_type": "code",
   "execution_count": 65,
   "metadata": {},
   "outputs": [
    {
     "data": {
      "text/html": [
       "\n",
       "    <div class=\"bk-root\">\n",
       "        <a href=\"https://bokeh.org\" target=\"_blank\" class=\"bk-logo bk-logo-small bk-logo-notebook\"></a>\n",
       "        <span id=\"1002\">Loading BokehJS ...</span>\n",
       "    </div>"
      ]
     },
     "metadata": {},
     "output_type": "display_data"
    },
    {
     "data": {
      "application/javascript": [
       "\n",
       "(function(root) {\n",
       "  function now() {\n",
       "    return new Date();\n",
       "  }\n",
       "\n",
       "  var force = true;\n",
       "\n",
       "  if (typeof root._bokeh_onload_callbacks === \"undefined\" || force === true) {\n",
       "    root._bokeh_onload_callbacks = [];\n",
       "    root._bokeh_is_loading = undefined;\n",
       "  }\n",
       "\n",
       "  var JS_MIME_TYPE = 'application/javascript';\n",
       "  var HTML_MIME_TYPE = 'text/html';\n",
       "  var EXEC_MIME_TYPE = 'application/vnd.bokehjs_exec.v0+json';\n",
       "  var CLASS_NAME = 'output_bokeh rendered_html';\n",
       "\n",
       "  /**\n",
       "   * Render data to the DOM node\n",
       "   */\n",
       "  function render(props, node) {\n",
       "    var script = document.createElement(\"script\");\n",
       "    node.appendChild(script);\n",
       "  }\n",
       "\n",
       "  /**\n",
       "   * Handle when an output is cleared or removed\n",
       "   */\n",
       "  function handleClearOutput(event, handle) {\n",
       "    var cell = handle.cell;\n",
       "\n",
       "    var id = cell.output_area._bokeh_element_id;\n",
       "    var server_id = cell.output_area._bokeh_server_id;\n",
       "    // Clean up Bokeh references\n",
       "    if (id != null && id in Bokeh.index) {\n",
       "      Bokeh.index[id].model.document.clear();\n",
       "      delete Bokeh.index[id];\n",
       "    }\n",
       "\n",
       "    if (server_id !== undefined) {\n",
       "      // Clean up Bokeh references\n",
       "      var cmd = \"from bokeh.io.state import curstate; print(curstate().uuid_to_server['\" + server_id + \"'].get_sessions()[0].document.roots[0]._id)\";\n",
       "      cell.notebook.kernel.execute(cmd, {\n",
       "        iopub: {\n",
       "          output: function(msg) {\n",
       "            var id = msg.content.text.trim();\n",
       "            if (id in Bokeh.index) {\n",
       "              Bokeh.index[id].model.document.clear();\n",
       "              delete Bokeh.index[id];\n",
       "            }\n",
       "          }\n",
       "        }\n",
       "      });\n",
       "      // Destroy server and session\n",
       "      var cmd = \"import bokeh.io.notebook as ion; ion.destroy_server('\" + server_id + \"')\";\n",
       "      cell.notebook.kernel.execute(cmd);\n",
       "    }\n",
       "  }\n",
       "\n",
       "  /**\n",
       "   * Handle when a new output is added\n",
       "   */\n",
       "  function handleAddOutput(event, handle) {\n",
       "    var output_area = handle.output_area;\n",
       "    var output = handle.output;\n",
       "\n",
       "    // limit handleAddOutput to display_data with EXEC_MIME_TYPE content only\n",
       "    if ((output.output_type != \"display_data\") || (!output.data.hasOwnProperty(EXEC_MIME_TYPE))) {\n",
       "      return\n",
       "    }\n",
       "\n",
       "    var toinsert = output_area.element.find(\".\" + CLASS_NAME.split(' ')[0]);\n",
       "\n",
       "    if (output.metadata[EXEC_MIME_TYPE][\"id\"] !== undefined) {\n",
       "      toinsert[toinsert.length - 1].firstChild.textContent = output.data[JS_MIME_TYPE];\n",
       "      // store reference to embed id on output_area\n",
       "      output_area._bokeh_element_id = output.metadata[EXEC_MIME_TYPE][\"id\"];\n",
       "    }\n",
       "    if (output.metadata[EXEC_MIME_TYPE][\"server_id\"] !== undefined) {\n",
       "      var bk_div = document.createElement(\"div\");\n",
       "      bk_div.innerHTML = output.data[HTML_MIME_TYPE];\n",
       "      var script_attrs = bk_div.children[0].attributes;\n",
       "      for (var i = 0; i < script_attrs.length; i++) {\n",
       "        toinsert[toinsert.length - 1].firstChild.setAttribute(script_attrs[i].name, script_attrs[i].value);\n",
       "      }\n",
       "      // store reference to server id on output_area\n",
       "      output_area._bokeh_server_id = output.metadata[EXEC_MIME_TYPE][\"server_id\"];\n",
       "    }\n",
       "  }\n",
       "\n",
       "  function register_renderer(events, OutputArea) {\n",
       "\n",
       "    function append_mime(data, metadata, element) {\n",
       "      // create a DOM node to render to\n",
       "      var toinsert = this.create_output_subarea(\n",
       "        metadata,\n",
       "        CLASS_NAME,\n",
       "        EXEC_MIME_TYPE\n",
       "      );\n",
       "      this.keyboard_manager.register_events(toinsert);\n",
       "      // Render to node\n",
       "      var props = {data: data, metadata: metadata[EXEC_MIME_TYPE]};\n",
       "      render(props, toinsert[toinsert.length - 1]);\n",
       "      element.append(toinsert);\n",
       "      return toinsert\n",
       "    }\n",
       "\n",
       "    /* Handle when an output is cleared or removed */\n",
       "    events.on('clear_output.CodeCell', handleClearOutput);\n",
       "    events.on('delete.Cell', handleClearOutput);\n",
       "\n",
       "    /* Handle when a new output is added */\n",
       "    events.on('output_added.OutputArea', handleAddOutput);\n",
       "\n",
       "    /**\n",
       "     * Register the mime type and append_mime function with output_area\n",
       "     */\n",
       "    OutputArea.prototype.register_mime_type(EXEC_MIME_TYPE, append_mime, {\n",
       "      /* Is output safe? */\n",
       "      safe: true,\n",
       "      /* Index of renderer in `output_area.display_order` */\n",
       "      index: 0\n",
       "    });\n",
       "  }\n",
       "\n",
       "  // register the mime type if in Jupyter Notebook environment and previously unregistered\n",
       "  if (root.Jupyter !== undefined) {\n",
       "    var events = require('base/js/events');\n",
       "    var OutputArea = require('notebook/js/outputarea').OutputArea;\n",
       "\n",
       "    if (OutputArea.prototype.mime_types().indexOf(EXEC_MIME_TYPE) == -1) {\n",
       "      register_renderer(events, OutputArea);\n",
       "    }\n",
       "  }\n",
       "\n",
       "  \n",
       "  if (typeof (root._bokeh_timeout) === \"undefined\" || force === true) {\n",
       "    root._bokeh_timeout = Date.now() + 5000;\n",
       "    root._bokeh_failed_load = false;\n",
       "  }\n",
       "\n",
       "  var NB_LOAD_WARNING = {'data': {'text/html':\n",
       "     \"<div style='background-color: #fdd'>\\n\"+\n",
       "     \"<p>\\n\"+\n",
       "     \"BokehJS does not appear to have successfully loaded. If loading BokehJS from CDN, this \\n\"+\n",
       "     \"may be due to a slow or bad network connection. Possible fixes:\\n\"+\n",
       "     \"</p>\\n\"+\n",
       "     \"<ul>\\n\"+\n",
       "     \"<li>re-rerun `output_notebook()` to attempt to load from CDN again, or</li>\\n\"+\n",
       "     \"<li>use INLINE resources instead, as so:</li>\\n\"+\n",
       "     \"</ul>\\n\"+\n",
       "     \"<code>\\n\"+\n",
       "     \"from bokeh.resources import INLINE\\n\"+\n",
       "     \"output_notebook(resources=INLINE)\\n\"+\n",
       "     \"</code>\\n\"+\n",
       "     \"</div>\"}};\n",
       "\n",
       "  function display_loaded() {\n",
       "    var el = document.getElementById(\"1002\");\n",
       "    if (el != null) {\n",
       "      el.textContent = \"BokehJS is loading...\";\n",
       "    }\n",
       "    if (root.Bokeh !== undefined) {\n",
       "      if (el != null) {\n",
       "        el.textContent = \"BokehJS \" + root.Bokeh.version + \" successfully loaded.\";\n",
       "      }\n",
       "    } else if (Date.now() < root._bokeh_timeout) {\n",
       "      setTimeout(display_loaded, 100)\n",
       "    }\n",
       "  }\n",
       "\n",
       "\n",
       "  function run_callbacks() {\n",
       "    try {\n",
       "      root._bokeh_onload_callbacks.forEach(function(callback) {\n",
       "        if (callback != null)\n",
       "          callback();\n",
       "      });\n",
       "    } finally {\n",
       "      delete root._bokeh_onload_callbacks\n",
       "    }\n",
       "    console.debug(\"Bokeh: all callbacks have finished\");\n",
       "  }\n",
       "\n",
       "  function load_libs(css_urls, js_urls, callback) {\n",
       "    if (css_urls == null) css_urls = [];\n",
       "    if (js_urls == null) js_urls = [];\n",
       "\n",
       "    root._bokeh_onload_callbacks.push(callback);\n",
       "    if (root._bokeh_is_loading > 0) {\n",
       "      console.debug(\"Bokeh: BokehJS is being loaded, scheduling callback at\", now());\n",
       "      return null;\n",
       "    }\n",
       "    if (js_urls == null || js_urls.length === 0) {\n",
       "      run_callbacks();\n",
       "      return null;\n",
       "    }\n",
       "    console.debug(\"Bokeh: BokehJS not loaded, scheduling load and callback at\", now());\n",
       "    root._bokeh_is_loading = css_urls.length + js_urls.length;\n",
       "\n",
       "    function on_load() {\n",
       "      root._bokeh_is_loading--;\n",
       "      if (root._bokeh_is_loading === 0) {\n",
       "        console.debug(\"Bokeh: all BokehJS libraries/stylesheets loaded\");\n",
       "        run_callbacks()\n",
       "      }\n",
       "    }\n",
       "\n",
       "    function on_error() {\n",
       "      console.error(\"failed to load \" + url);\n",
       "    }\n",
       "\n",
       "    for (var i = 0; i < css_urls.length; i++) {\n",
       "      var url = css_urls[i];\n",
       "      const element = document.createElement(\"link\");\n",
       "      element.onload = on_load;\n",
       "      element.onerror = on_error;\n",
       "      element.rel = \"stylesheet\";\n",
       "      element.type = \"text/css\";\n",
       "      element.href = url;\n",
       "      console.debug(\"Bokeh: injecting link tag for BokehJS stylesheet: \", url);\n",
       "      document.body.appendChild(element);\n",
       "    }\n",
       "\n",
       "    for (var i = 0; i < js_urls.length; i++) {\n",
       "      var url = js_urls[i];\n",
       "      var element = document.createElement('script');\n",
       "      element.onload = on_load;\n",
       "      element.onerror = on_error;\n",
       "      element.async = false;\n",
       "      element.src = url;\n",
       "      console.debug(\"Bokeh: injecting script tag for BokehJS library: \", url);\n",
       "      document.head.appendChild(element);\n",
       "    }\n",
       "  };var element = document.getElementById(\"1002\");\n",
       "  if (element == null) {\n",
       "    console.error(\"Bokeh: ERROR: autoload.js configured with elementid '1002' but no matching script tag was found. \")\n",
       "    return false;\n",
       "  }\n",
       "\n",
       "  function inject_raw_css(css) {\n",
       "    const element = document.createElement(\"style\");\n",
       "    element.appendChild(document.createTextNode(css));\n",
       "    document.body.appendChild(element);\n",
       "  }\n",
       "\n",
       "  \n",
       "  var js_urls = [\"https://cdn.pydata.org/bokeh/release/bokeh-1.4.0.min.js\", \"https://cdn.pydata.org/bokeh/release/bokeh-widgets-1.4.0.min.js\", \"https://cdn.pydata.org/bokeh/release/bokeh-tables-1.4.0.min.js\", \"https://cdn.pydata.org/bokeh/release/bokeh-gl-1.4.0.min.js\"];\n",
       "  var css_urls = [];\n",
       "  \n",
       "\n",
       "  var inline_js = [\n",
       "    function(Bokeh) {\n",
       "      Bokeh.set_log_level(\"info\");\n",
       "    },\n",
       "    function(Bokeh) {\n",
       "    \n",
       "    \n",
       "    }\n",
       "  ];\n",
       "\n",
       "  function run_inline_js() {\n",
       "    \n",
       "    if (root.Bokeh !== undefined || force === true) {\n",
       "      \n",
       "    for (var i = 0; i < inline_js.length; i++) {\n",
       "      inline_js[i].call(root, root.Bokeh);\n",
       "    }\n",
       "    if (force === true) {\n",
       "        display_loaded();\n",
       "      }} else if (Date.now() < root._bokeh_timeout) {\n",
       "      setTimeout(run_inline_js, 100);\n",
       "    } else if (!root._bokeh_failed_load) {\n",
       "      console.log(\"Bokeh: BokehJS failed to load within specified timeout.\");\n",
       "      root._bokeh_failed_load = true;\n",
       "    } else if (force !== true) {\n",
       "      var cell = $(document.getElementById(\"1002\")).parents('.cell').data().cell;\n",
       "      cell.output_area.append_execute_result(NB_LOAD_WARNING)\n",
       "    }\n",
       "\n",
       "  }\n",
       "\n",
       "  if (root._bokeh_is_loading === 0) {\n",
       "    console.debug(\"Bokeh: BokehJS loaded, going straight to plotting\");\n",
       "    run_inline_js();\n",
       "  } else {\n",
       "    load_libs(css_urls, js_urls, function() {\n",
       "      console.debug(\"Bokeh: BokehJS plotting callback run at\", now());\n",
       "      run_inline_js();\n",
       "    });\n",
       "  }\n",
       "}(window));"
      ],
      "application/vnd.bokehjs_load.v0+json": "\n(function(root) {\n  function now() {\n    return new Date();\n  }\n\n  var force = true;\n\n  if (typeof root._bokeh_onload_callbacks === \"undefined\" || force === true) {\n    root._bokeh_onload_callbacks = [];\n    root._bokeh_is_loading = undefined;\n  }\n\n  \n\n  \n  if (typeof (root._bokeh_timeout) === \"undefined\" || force === true) {\n    root._bokeh_timeout = Date.now() + 5000;\n    root._bokeh_failed_load = false;\n  }\n\n  var NB_LOAD_WARNING = {'data': {'text/html':\n     \"<div style='background-color: #fdd'>\\n\"+\n     \"<p>\\n\"+\n     \"BokehJS does not appear to have successfully loaded. If loading BokehJS from CDN, this \\n\"+\n     \"may be due to a slow or bad network connection. Possible fixes:\\n\"+\n     \"</p>\\n\"+\n     \"<ul>\\n\"+\n     \"<li>re-rerun `output_notebook()` to attempt to load from CDN again, or</li>\\n\"+\n     \"<li>use INLINE resources instead, as so:</li>\\n\"+\n     \"</ul>\\n\"+\n     \"<code>\\n\"+\n     \"from bokeh.resources import INLINE\\n\"+\n     \"output_notebook(resources=INLINE)\\n\"+\n     \"</code>\\n\"+\n     \"</div>\"}};\n\n  function display_loaded() {\n    var el = document.getElementById(\"1002\");\n    if (el != null) {\n      el.textContent = \"BokehJS is loading...\";\n    }\n    if (root.Bokeh !== undefined) {\n      if (el != null) {\n        el.textContent = \"BokehJS \" + root.Bokeh.version + \" successfully loaded.\";\n      }\n    } else if (Date.now() < root._bokeh_timeout) {\n      setTimeout(display_loaded, 100)\n    }\n  }\n\n\n  function run_callbacks() {\n    try {\n      root._bokeh_onload_callbacks.forEach(function(callback) {\n        if (callback != null)\n          callback();\n      });\n    } finally {\n      delete root._bokeh_onload_callbacks\n    }\n    console.debug(\"Bokeh: all callbacks have finished\");\n  }\n\n  function load_libs(css_urls, js_urls, callback) {\n    if (css_urls == null) css_urls = [];\n    if (js_urls == null) js_urls = [];\n\n    root._bokeh_onload_callbacks.push(callback);\n    if (root._bokeh_is_loading > 0) {\n      console.debug(\"Bokeh: BokehJS is being loaded, scheduling callback at\", now());\n      return null;\n    }\n    if (js_urls == null || js_urls.length === 0) {\n      run_callbacks();\n      return null;\n    }\n    console.debug(\"Bokeh: BokehJS not loaded, scheduling load and callback at\", now());\n    root._bokeh_is_loading = css_urls.length + js_urls.length;\n\n    function on_load() {\n      root._bokeh_is_loading--;\n      if (root._bokeh_is_loading === 0) {\n        console.debug(\"Bokeh: all BokehJS libraries/stylesheets loaded\");\n        run_callbacks()\n      }\n    }\n\n    function on_error() {\n      console.error(\"failed to load \" + url);\n    }\n\n    for (var i = 0; i < css_urls.length; i++) {\n      var url = css_urls[i];\n      const element = document.createElement(\"link\");\n      element.onload = on_load;\n      element.onerror = on_error;\n      element.rel = \"stylesheet\";\n      element.type = \"text/css\";\n      element.href = url;\n      console.debug(\"Bokeh: injecting link tag for BokehJS stylesheet: \", url);\n      document.body.appendChild(element);\n    }\n\n    for (var i = 0; i < js_urls.length; i++) {\n      var url = js_urls[i];\n      var element = document.createElement('script');\n      element.onload = on_load;\n      element.onerror = on_error;\n      element.async = false;\n      element.src = url;\n      console.debug(\"Bokeh: injecting script tag for BokehJS library: \", url);\n      document.head.appendChild(element);\n    }\n  };var element = document.getElementById(\"1002\");\n  if (element == null) {\n    console.error(\"Bokeh: ERROR: autoload.js configured with elementid '1002' but no matching script tag was found. \")\n    return false;\n  }\n\n  function inject_raw_css(css) {\n    const element = document.createElement(\"style\");\n    element.appendChild(document.createTextNode(css));\n    document.body.appendChild(element);\n  }\n\n  \n  var js_urls = [\"https://cdn.pydata.org/bokeh/release/bokeh-1.4.0.min.js\", \"https://cdn.pydata.org/bokeh/release/bokeh-widgets-1.4.0.min.js\", \"https://cdn.pydata.org/bokeh/release/bokeh-tables-1.4.0.min.js\", \"https://cdn.pydata.org/bokeh/release/bokeh-gl-1.4.0.min.js\"];\n  var css_urls = [];\n  \n\n  var inline_js = [\n    function(Bokeh) {\n      Bokeh.set_log_level(\"info\");\n    },\n    function(Bokeh) {\n    \n    \n    }\n  ];\n\n  function run_inline_js() {\n    \n    if (root.Bokeh !== undefined || force === true) {\n      \n    for (var i = 0; i < inline_js.length; i++) {\n      inline_js[i].call(root, root.Bokeh);\n    }\n    if (force === true) {\n        display_loaded();\n      }} else if (Date.now() < root._bokeh_timeout) {\n      setTimeout(run_inline_js, 100);\n    } else if (!root._bokeh_failed_load) {\n      console.log(\"Bokeh: BokehJS failed to load within specified timeout.\");\n      root._bokeh_failed_load = true;\n    } else if (force !== true) {\n      var cell = $(document.getElementById(\"1002\")).parents('.cell').data().cell;\n      cell.output_area.append_execute_result(NB_LOAD_WARNING)\n    }\n\n  }\n\n  if (root._bokeh_is_loading === 0) {\n    console.debug(\"Bokeh: BokehJS loaded, going straight to plotting\");\n    run_inline_js();\n  } else {\n    load_libs(css_urls, js_urls, function() {\n      console.debug(\"Bokeh: BokehJS plotting callback run at\", now());\n      run_inline_js();\n    });\n  }\n}(window));"
     },
     "metadata": {},
     "output_type": "display_data"
    }
   ],
   "source": [
    "import pyproj\n",
    "\n",
    "from bokeh.models import ColumnDataSource\n",
    "from bokeh.plotting import figure\n",
    "\n",
    "from bokeh.io import show, output_notebook\n",
    "\n",
    "from bokeh.tile_providers import get_provider, Vendors\n",
    "tile_provider = get_provider(Vendors.CARTODBPOSITRON_RETINA)\n",
    "\n",
    "output_notebook()"
   ]
  },
  {
   "cell_type": "code",
   "execution_count": 66,
   "metadata": {},
   "outputs": [],
   "source": [
    "def transform_latitude_and_longitude(long, lat):\n",
    "    \"\"\"\n",
    "       Transforms latitude and longitude values to mercador projected values\n",
    "    \"\"\"\n",
    "    return pyproj.transform(pyproj.Proj(init='epsg:4326'), \n",
    "                            pyproj.Proj(init='epsg:3857'), \n",
    "                            long, lat)"
   ]
  },
  {
   "cell_type": "code",
   "execution_count": 82,
   "metadata": {},
   "outputs": [],
   "source": [
    "def create_station_location_map(lat, long):\n",
    "        \n",
    "        #Transform the latitude and longitude to mercator coordinates\n",
    "        long, lat = transform_latitude_and_longitude(long, lat)\n",
    "        \n",
    "        #Create the Bokeh figure\n",
    "        p = figure(plot_width=800, plot_height=600,\n",
    "                  x_axis_type=\"mercator\", y_axis_type=\"mercator\",\n",
    "                  tools=\"box_select,tap,pan,box_zoom,reset\")\n",
    "        \n",
    "        #Add the background tile (uncomment this line to add the map background)\n",
    "        p.add_tile(tile_provider)\n",
    "        \n",
    "        source = ColumnDataSource(data=dict(lat=lat, lon=long))\n",
    "        \n",
    "        p.circle(x=\"lon\", y=\"lat\", size=15, fill_color=\"blue\", fill_alpha=0.8, source=source)\n",
    "        \n",
    "        return p"
   ]
  },
  {
   "cell_type": "code",
   "execution_count": 83,
   "metadata": {},
   "outputs": [],
   "source": [
    "def plot_stations(df):\n",
    "   \n",
    "    df = df\n",
    "    \n",
    "    lat = df['LAT'].values\n",
    "    long = df['LON'].values\n",
    "    \n",
    "    return show(create_station_location_map(lat, long))"
   ]
  },
  {
   "cell_type": "code",
   "execution_count": 84,
   "metadata": {},
   "outputs": [
    {
     "data": {
      "text/html": [
       "\n",
       "\n",
       "\n",
       "\n",
       "\n",
       "\n",
       "  <div class=\"bk-root\" id=\"d51e54b4-147c-45c3-bc2f-83851b22e45e\" data-root-id=\"1285\"></div>\n"
      ]
     },
     "metadata": {},
     "output_type": "display_data"
    },
    {
     "data": {
      "application/javascript": [
       "(function(root) {\n",
       "  function embed_document(root) {\n",
       "    \n",
       "  var docs_json = {\"c4c4104e-5bf6-46d4-b4f7-29fe41e17772\":{\"roots\":{\"references\":[{\"attributes\":{\"below\":[{\"id\":\"1294\",\"type\":\"MercatorAxis\"}],\"center\":[{\"id\":\"1302\",\"type\":\"Grid\"},{\"id\":\"1311\",\"type\":\"Grid\"}],\"left\":[{\"id\":\"1303\",\"type\":\"MercatorAxis\"}],\"plot_width\":800,\"renderers\":[{\"id\":\"1323\",\"type\":\"TileRenderer\"},{\"id\":\"1329\",\"type\":\"GlyphRenderer\"}],\"title\":{\"id\":\"1352\",\"type\":\"Title\"},\"toolbar\":{\"id\":\"1317\",\"type\":\"Toolbar\"},\"x_range\":{\"id\":\"1286\",\"type\":\"DataRange1d\"},\"x_scale\":{\"id\":\"1290\",\"type\":\"LinearScale\"},\"y_range\":{\"id\":\"1288\",\"type\":\"DataRange1d\"},\"y_scale\":{\"id\":\"1292\",\"type\":\"LinearScale\"}},\"id\":\"1285\",\"subtype\":\"Figure\",\"type\":\"Plot\"},{\"attributes\":{},\"id\":\"1292\",\"type\":\"LinearScale\"},{\"attributes\":{},\"id\":\"1357\",\"type\":\"Selection\"},{\"attributes\":{\"fill_alpha\":{\"value\":0.8},\"fill_color\":{\"value\":\"blue\"},\"line_color\":{\"value\":\"#1f77b4\"},\"size\":{\"units\":\"screen\",\"value\":15},\"x\":{\"field\":\"lon\"},\"y\":{\"field\":\"lat\"}},\"id\":\"1327\",\"type\":\"Circle\"},{\"attributes\":{\"fill_alpha\":{\"value\":0.1},\"fill_color\":{\"value\":\"#1f77b4\"},\"line_alpha\":{\"value\":0.1},\"line_color\":{\"value\":\"#1f77b4\"},\"size\":{\"units\":\"screen\",\"value\":15},\"x\":{\"field\":\"lon\"},\"y\":{\"field\":\"lat\"}},\"id\":\"1328\",\"type\":\"Circle\"},{\"attributes\":{},\"id\":\"1314\",\"type\":\"PanTool\"},{\"attributes\":{\"callback\":null},\"id\":\"1286\",\"type\":\"DataRange1d\"},{\"attributes\":{\"data_source\":{\"id\":\"1325\",\"type\":\"ColumnDataSource\"},\"glyph\":{\"id\":\"1327\",\"type\":\"Circle\"},\"hover_glyph\":null,\"muted_glyph\":null,\"nonselection_glyph\":{\"id\":\"1328\",\"type\":\"Circle\"},\"selection_glyph\":null,\"view\":{\"id\":\"1330\",\"type\":\"CDSView\"}},\"id\":\"1329\",\"type\":\"GlyphRenderer\"},{\"attributes\":{\"dimension\":\"lon\"},\"id\":\"1297\",\"type\":\"MercatorTickFormatter\"},{\"attributes\":{\"dimension\":1,\"ticker\":{\"id\":\"1304\",\"type\":\"MercatorTicker\"}},\"id\":\"1311\",\"type\":\"Grid\"},{\"attributes\":{\"bottom_units\":\"screen\",\"fill_alpha\":{\"value\":0.5},\"fill_color\":{\"value\":\"lightgrey\"},\"left_units\":\"screen\",\"level\":\"overlay\",\"line_alpha\":{\"value\":1.0},\"line_color\":{\"value\":\"black\"},\"line_dash\":[4,4],\"line_width\":{\"value\":2},\"render_mode\":\"css\",\"right_units\":\"screen\",\"top_units\":\"screen\"},\"id\":\"1360\",\"type\":\"BoxAnnotation\"},{\"attributes\":{\"text\":\"\"},\"id\":\"1352\",\"type\":\"Title\"},{\"attributes\":{\"callback\":null,\"data\":{\"lat\":{\"__ndarray__\":\"78MtQHdwYEEVlsIFYZxiQRkCEZKZtmBB8xpCHPNXXEFUVpqjtnJaQSSTIis8fFFBU8dGQa8JVEHjyYCCbYtRQSPDIJ5yzlBB3so58I7iUkGM+cMIRIpPQZUc24s8OlBB2rWm42HpTkFlswxNDf9PQSvqIO2WN15B4EEzALVWTkHgQTMAtVZOQbbQP/yvjVpBttA//K+NWkEu6iZwl7NRQTS+PTFZIVRBq+QliDkTSkHpWIU7lttZQQyMgjVQt09B4gBeUWCAUUHXyn1+6EJiQdlOTyv1MlVBOIO0rsDkSEFf3ECg1LBKQV/cQKDUsEpBsTrA8ez6U0Epgs3Rf+tUQcyatXgm61JBmnQeC9QFTUF43KIP4JdRQV6umvxOeVBBpZlAuBzNUkEwooAxTiBTQdyITYx3LlJBsZR4Gn4+TUHkujWT9qtMQdiYY6G2VU1BGGTOfRtaU0Hc0eDmFhxVQXmzyU0AFlVBvVYAR5gPVEF40fFyxelPQWwVogVoBFJBJ04HF2QzV0HltCs847ROQVErCeNcolJBDADP736oUUEpsXEslHJRQbqCoF75xVJBie/trqeTVUHc0eDmFhxVQdcdxykUJ0xBTXxIJL1bUEFX9a5SdORPQd1wiwWns0xBuEHxiq28VEGwnUNgqrlUQVnQhR0C3FNBVxGicJewUkHk/oqDm3xXQfTAWMfApE9BYQ6+bVLNU0F3wBSpsAtRQVmSvni8WlVBYx37wH/OVUEf0sJOX+JLQTS+PTFZIVRBQINPCHfoUUFWyJVwuZNRQbnZIQ0wAlBB4AUIM4kcVkHuoyRVb5hXQZgpMhxSrFJBhv5BbKKwVEG/STZ2aDdiQSXXHbH5TldB9coe9pbBU0FfpzMpm0NXQbEVviIjVlVBOxgJ9Y0iTkEPxhsyH0pWQXS4/DKy31JBBKu2bxiXVEHeA8VPjnNSQXtIQeWrM0tBjFSZvBo2VEGK8qR2ARFSQQ4/zlESW0hBS359Col5VkG+46aKsP1UQTq9kNWJN1VBIzPWP2PCTUFx7hEuxF9SQQuTpm13TU9BICCdiG1pTEEKgmRwwI9WQcOZlz9TClFBlCdb+8N4TEHqqHXFEnZXQasz+t6M1E1BXSKqfTPpVkEtQRheqhdTQWlGjfDoQk9BZv9indSZVUHYBLc2PIRVQesVl9ncolNBiqNiSapVUUHCNzDuQuhQQczei02jsFBBR3aP6K/uTEHXPegJrn9PQQ3elgtdJ11BnUVmYoUnUEFCKWSlIu9TQRCxFWA0OlFBhyaOGWgSUkE=\",\"dtype\":\"float64\",\"shape\":[121]},\"lon\":{\"__ndarray__\":\"8CIJ8k60bsGKMWyh79NxwXscL3X+qW/BFb0efnYJccEYwo01n3tyQU4q5C/Tj2nBeGnQkoQbasH77OpgKxdqwcXbBAVxyWnB6pvbTLAEasH6ycOJuY5owZt+YIJ2J2nB5kq9Uz4YacFE8wB7vj5iwYLae37CMnDB26a6fDW6aMHbprp8NbpowbqGaTATYnJBuoZpMBNickE3PAfhnBZpwcx1KW0oQ2fBZYiJcwEDZsF0OSJ6vcFywebdrB+ommbBIRrhyl5fY8E/BBR99mRvwYu636b/LWrB11hURCVKYcEskOx/Z1lkwSyQ7H9nWWTBWvS2sFFjXsEn6E76HRdmwUKUaWS6iWDBPCAVpniFZ8F2o4nbT1Jiwdg/C9wEpmLBfcW+1oTjaMH/RSHkyWJfwfj19MaUbWnBgxM0/fLiZsEbVzT4z/NnwVUpAUL0J2XBwPquAPfWZMEvh+IZ/gJlwQRpV6mZemfBRPsYBeudZsE6ffXFtURhwQ424up5ymXBFmsOqcclZcHozzMCFtJlwcDv3rVo+2bBDf0afuuKaMGz5Cw+L4lgweYvvfRWfmLBpBXcFyq0Y8Evh+IZ/gJlwQF6iIeNv2HBXiK9wK9WZMHkzW0d8UxnwQupU7J1sWTBPBVFW+qpacEp4u1muK1pwe5GMZNbw2HByaQSa2WeYcFL72XMfVpkwcUPXbrWlmXBrUdfA3QiYMEuFWMuPxNhwYnx4C5p6GjB6mo7WKyzZ8EYwo01n3tiwcx1KW0oQ2fB8ARgwGMtZcEX6xWgdm1gwUKUaWS6iWDBVRYZbTntYsEg4Rle0B9mwRtXNPjP82fBXF4tAEKDZMFoikBqyPhtwXR9qkN8TWfBD5gxwt/7YMG37gqtgG1jwcgc8+mJ92HBRT+wvAe5YcEQMIFXFGFpwb9fp6pg9WLB2xAi3sdKaME4k4ZtdGxmwU4izKWmMGXBmDVpAY8pY8FcXi0AQoNkwSomhR7VyGTBcGj8iZyNZsHds0G+iotewSsr5eefq1/BSVRedud4YsE0/t+qQ/RgwWWTWb6P3mPBUc0S/vNfZsF+1f3YOzFowcYUzHH/CGfB+qPz30MZZMHh6V9YFd5owbifspgzBmHBhdFiKvtMasFmEKn03KllwXqaf3Xm+2LBrpsX4YtsXcGHkkkYZTNnwTPj0F3+ymPBDQjryHlmZsESQMBZy65owcK7le5gvWHBvrnPCTw4Y8EXL55pNflkwTRdaNPpGWzBVJYRdoqlZ8EkJ2gMtDBpwfUOPi+1EWjBpUvrw1Z3Z8E=\",\"dtype\":\"float64\",\"shape\":[121]}},\"selected\":{\"id\":\"1357\",\"type\":\"Selection\"},\"selection_policy\":{\"id\":\"1358\",\"type\":\"UnionRenderers\"}},\"id\":\"1325\",\"type\":\"ColumnDataSource\"},{\"attributes\":{\"formatter\":{\"id\":\"1297\",\"type\":\"MercatorTickFormatter\"},\"ticker\":{\"id\":\"1295\",\"type\":\"MercatorTicker\"}},\"id\":\"1294\",\"type\":\"MercatorAxis\"},{\"attributes\":{\"dimension\":\"lon\"},\"id\":\"1295\",\"type\":\"MercatorTicker\"},{\"attributes\":{\"attribution\":\"&copy; <a href=\\\"https://www.openstreetmap.org/copyright\\\">OpenStreetMap</a> contributors,&copy; <a href=\\\"https://cartodb.com/attributions\\\">CartoDB</a>\",\"url\":\"https://tiles.basemaps.cartocdn.com/light_all/{z}/{x}/{y}@2x.png\"},\"id\":\"1001\",\"type\":\"WMTSTileSource\"},{\"attributes\":{\"source\":{\"id\":\"1325\",\"type\":\"ColumnDataSource\"}},\"id\":\"1330\",\"type\":\"CDSView\"},{\"attributes\":{\"callback\":null},\"id\":\"1313\",\"type\":\"TapTool\"},{\"attributes\":{},\"id\":\"1316\",\"type\":\"ResetTool\"},{\"attributes\":{\"ticker\":{\"id\":\"1295\",\"type\":\"MercatorTicker\"}},\"id\":\"1302\",\"type\":\"Grid\"},{\"attributes\":{\"bottom_units\":\"screen\",\"fill_alpha\":{\"value\":0.5},\"fill_color\":{\"value\":\"lightgrey\"},\"left_units\":\"screen\",\"level\":\"overlay\",\"line_alpha\":{\"value\":1.0},\"line_color\":{\"value\":\"black\"},\"line_dash\":[4,4],\"line_width\":{\"value\":2},\"render_mode\":\"css\",\"right_units\":\"screen\",\"top_units\":\"screen\"},\"id\":\"1359\",\"type\":\"BoxAnnotation\"},{\"attributes\":{},\"id\":\"1358\",\"type\":\"UnionRenderers\"},{\"attributes\":{\"dimension\":\"lat\"},\"id\":\"1304\",\"type\":\"MercatorTicker\"},{\"attributes\":{\"active_drag\":\"auto\",\"active_inspect\":\"auto\",\"active_multi\":null,\"active_scroll\":\"auto\",\"active_tap\":\"auto\",\"tools\":[{\"id\":\"1312\",\"type\":\"BoxSelectTool\"},{\"id\":\"1313\",\"type\":\"TapTool\"},{\"id\":\"1314\",\"type\":\"PanTool\"},{\"id\":\"1315\",\"type\":\"BoxZoomTool\"},{\"id\":\"1316\",\"type\":\"ResetTool\"}]},\"id\":\"1317\",\"type\":\"Toolbar\"},{\"attributes\":{},\"id\":\"1290\",\"type\":\"LinearScale\"},{\"attributes\":{\"dimension\":\"lat\"},\"id\":\"1306\",\"type\":\"MercatorTickFormatter\"},{\"attributes\":{\"formatter\":{\"id\":\"1306\",\"type\":\"MercatorTickFormatter\"},\"ticker\":{\"id\":\"1304\",\"type\":\"MercatorTicker\"}},\"id\":\"1303\",\"type\":\"MercatorAxis\"},{\"attributes\":{\"callback\":null,\"overlay\":{\"id\":\"1359\",\"type\":\"BoxAnnotation\"}},\"id\":\"1312\",\"type\":\"BoxSelectTool\"},{\"attributes\":{\"callback\":null},\"id\":\"1288\",\"type\":\"DataRange1d\"},{\"attributes\":{\"overlay\":{\"id\":\"1360\",\"type\":\"BoxAnnotation\"}},\"id\":\"1315\",\"type\":\"BoxZoomTool\"},{\"attributes\":{\"tile_source\":{\"id\":\"1001\",\"type\":\"WMTSTileSource\"}},\"id\":\"1323\",\"type\":\"TileRenderer\"}],\"root_ids\":[\"1285\"]},\"title\":\"Bokeh Application\",\"version\":\"1.4.0\"}};\n",
       "  var render_items = [{\"docid\":\"c4c4104e-5bf6-46d4-b4f7-29fe41e17772\",\"roots\":{\"1285\":\"d51e54b4-147c-45c3-bc2f-83851b22e45e\"}}];\n",
       "  root.Bokeh.embed.embed_items_notebook(docs_json, render_items);\n",
       "\n",
       "  }\n",
       "  if (root.Bokeh !== undefined) {\n",
       "    embed_document(root);\n",
       "  } else {\n",
       "    var attempts = 0;\n",
       "    var timer = setInterval(function(root) {\n",
       "      if (root.Bokeh !== undefined) {\n",
       "        clearInterval(timer);\n",
       "        embed_document(root);\n",
       "      } else {\n",
       "        attempts++;\n",
       "        if (attempts > 100) {\n",
       "          clearInterval(timer);\n",
       "          console.log(\"Bokeh: ERROR: Unable to run BokehJS code because BokehJS library is missing\");\n",
       "        }\n",
       "      }\n",
       "    }, 10, root)\n",
       "  }\n",
       "})(window);"
      ],
      "application/vnd.bokehjs_exec.v0+json": ""
     },
     "metadata": {
      "application/vnd.bokehjs_exec.v0+json": {
       "id": "1285"
      }
     },
     "output_type": "display_data"
    }
   ],
   "source": [
    "plot_stations(df)"
   ]
  },
  {
   "cell_type": "code",
   "execution_count": null,
   "metadata": {},
   "outputs": [],
   "source": []
  }
 ],
 "metadata": {
  "kernelspec": {
   "display_name": "usarr",
   "language": "python",
   "name": "usarr"
  },
  "language_info": {
   "codemirror_mode": {
    "name": "ipython",
    "version": 3
   },
   "file_extension": ".py",
   "mimetype": "text/x-python",
   "name": "python",
   "nbconvert_exporter": "python",
   "pygments_lexer": "ipython3",
   "version": "3.6.9"
  }
 },
 "nbformat": 4,
 "nbformat_minor": 4
}
